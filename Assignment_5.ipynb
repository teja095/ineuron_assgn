{
 "cells": [
  {
   "cell_type": "code",
   "execution_count": 3,
   "metadata": {},
   "outputs": [
    {
     "name": "stdout",
     "output_type": "stream",
     "text": [
      "[[1, 2], [3, 4]]\n"
     ]
    }
   ],
   "source": [
    "def con_2d_arr(original, m, n):\n",
    "    if len(original) != m * n:\n",
    "        return []\n",
    "    \n",
    "    result = [[0] * n for _ in range(m)]\n",
    "    \n",
    "    for i in range(len(original)):\n",
    "        row = i // n\n",
    "        col = i % n\n",
    "        result[row][col] = original[i]\n",
    "    \n",
    "    return result\n",
    "original=[1,2,3,4]\n",
    "m = 2\n",
    "n = 2\n",
    "res = con_2d_arr(original,m,n)\n",
    "print(res)"
   ]
  },
  {
   "cell_type": "code",
   "execution_count": 6,
   "metadata": {},
   "outputs": [
    {
     "name": "stdout",
     "output_type": "stream",
     "text": [
      "2\n"
     ]
    }
   ],
   "source": [
    "import math\n",
    "\n",
    "def complete_rows(n):\n",
    "    k = math.floor(math.sqrt(2 * n))\n",
    "    while (k * (k + 1)) > (2 * n):\n",
    "        k -= 1\n",
    "    return k\n",
    "n = 5\n",
    "r = complete_rows(5)\n",
    "print(r)\n",
    "### no answer on the clue just copied it from google"
   ]
  },
  {
   "cell_type": "code",
   "execution_count": 10,
   "metadata": {},
   "outputs": [
    {
     "name": "stdout",
     "output_type": "stream",
     "text": [
      "[0, 1, 9, 16, 100]\n"
     ]
    }
   ],
   "source": [
    "def no_squares(nums):\n",
    "    nums.sort()\n",
    "    per_sqr = []\n",
    "    \n",
    "    for i in nums:\n",
    "        per_sqr.append(i**2)\n",
    "    return sorted(per_sqr)\n",
    "nums =  [-4,-1,0,3,10]\n",
    "r = no_squares(nums)\n",
    "print(r)"
   ]
  },
  {
   "cell_type": "code",
   "execution_count": 11,
   "metadata": {},
   "outputs": [
    {
     "name": "stdout",
     "output_type": "stream",
     "text": [
      "[[1, 3], [4, 6]]\n"
     ]
    }
   ],
   "source": [
    "def two_size(arr1, arr2):\n",
    "    set1 = set(arr1)\n",
    "    set2 = set(arr2)\n",
    "\n",
    "    distinct_arr1 = list(set1 - set2)\n",
    "    distinct_arr2 = list(set2 - set1)\n",
    "\n",
    "    return [distinct_arr1, distinct_arr2]\n",
    "\n",
    "arr1 = [1, 2, 3]\n",
    "arr2 = [2, 4, 6]\n",
    "\n",
    "result = two_size(arr1, arr2)\n",
    "print(result)\n"
   ]
  },
  {
   "cell_type": "code",
   "execution_count": 12,
   "metadata": {},
   "outputs": [
    {
     "name": "stdout",
     "output_type": "stream",
     "text": [
      "2\n"
     ]
    }
   ],
   "source": [
    "def distance_value(arr1, arr2, d):\n",
    "    distance = 0\n",
    "    for num1 in arr1:\n",
    "        found = False\n",
    "        for num2 in arr2:\n",
    "            if abs(num1 - num2) <= d:\n",
    "                found = True\n",
    "                break\n",
    "        if not found:\n",
    "            distance += 1\n",
    "    return distance\n",
    "arr1 = [4, 5, 8]\n",
    "arr2 = [10, 9, 1, 8]\n",
    "d = 2\n",
    "print(distance_value(arr1, arr2, d))"
   ]
  },
  {
   "cell_type": "code",
   "execution_count": 13,
   "metadata": {},
   "outputs": [
    {
     "name": "stdout",
     "output_type": "stream",
     "text": [
      "[2, 3]\n"
     ]
    }
   ],
   "source": [
    "def findDuplicates(nums):\n",
    "    result = []\n",
    "\n",
    "    for num in nums:\n",
    "        index = abs(num)\n",
    "        if nums[index - 1] > 0:\n",
    "            nums[index - 1] *= -1\n",
    "        else:\n",
    "            result.append(index)\n",
    "\n",
    "    return result\n",
    "nums = [4, 3, 2, 7, 8, 2, 3, 1]\n",
    "print(findDuplicates(nums))\n"
   ]
  },
  {
   "cell_type": "code",
   "execution_count": null,
   "metadata": {},
   "outputs": [],
   "source": []
  }
 ],
 "metadata": {
  "kernelspec": {
   "display_name": "Python 3",
   "language": "python",
   "name": "python3"
  },
  "language_info": {
   "codemirror_mode": {
    "name": "ipython",
    "version": 3
   },
   "file_extension": ".py",
   "mimetype": "text/x-python",
   "name": "python",
   "nbconvert_exporter": "python",
   "pygments_lexer": "ipython3",
   "version": "3.8.3"
  }
 },
 "nbformat": 4,
 "nbformat_minor": 4
}
