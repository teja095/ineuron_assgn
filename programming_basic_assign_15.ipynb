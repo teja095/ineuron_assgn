{
 "cells": [
  {
   "cell_type": "code",
   "execution_count": 1,
   "metadata": {},
   "outputs": [
    {
     "name": "stdout",
     "output_type": "stream",
     "text": [
      "100\n",
      "0,35,70\n"
     ]
    }
   ],
   "source": [
    "#Please write a program using generator to print the numbers which can be divisible by 5 and\n",
    "#7 between 0 and n in comma separated form while n is input by console.\n",
    "def NumGenerator(n):\n",
    "    for i in range(n):\n",
    "        if i%5==0 and i%7==0:\n",
    "            yield i\n",
    "\n",
    "n=int(input())\n",
    "values = []\n",
    "for i in NumGenerator(n):\n",
    "    values.append(str(i))\n",
    "\n",
    "print(\",\".join(values))\n"
   ]
  },
  {
   "cell_type": "code",
   "execution_count": 1,
   "metadata": {},
   "outputs": [
    {
     "name": "stdout",
     "output_type": "stream",
     "text": [
      "10\n",
      "0,2,4,6,8,10\n"
     ]
    }
   ],
   "source": [
    "#Please write a program using generator to print the even numbers between 0 and n in comma\n",
    "#separated form while n is input by console.\n",
    "def NumGenerator(n):\n",
    "    for i in range(0,n+1):\n",
    "        if i%2 == 0 :\n",
    "            yield i\n",
    "            \n",
    "n = int(input())\n",
    "values = []\n",
    "for i in NumGenerator(n):\n",
    "    values.append(str(i))\n",
    "print(\",\".join(values))"
   ]
  },
  {
   "cell_type": "code",
   "execution_count": 2,
   "metadata": {},
   "outputs": [
    {
     "name": "stdout",
     "output_type": "stream",
     "text": [
      "7\n",
      "0,1,1,2,3,5,8,13\n"
     ]
    }
   ],
   "source": [
    "#The Fibonacci Sequence is computed based on the following formula:\n",
    "#f(n)=0 if n=0\n",
    "#f(n)=1 if n=1\n",
    "#f(n)=f(n-1)+f(n-2) if n&gt;1\n",
    "#Please write a program using list comprehension to print the Fibonacci Sequence in comma\n",
    "#separated form with a given n input by console.\n",
    "def f(n):\n",
    "    if n == 0:\n",
    "        return 0\n",
    "    elif n == 1:\n",
    "        return 1\n",
    "    else:\n",
    "        return f(n-1) + f(n-2)\n",
    "n = int(input())\n",
    "values = [str(f(x))for x in range(0,n+1)]\n",
    "print(\",\".join(values))"
   ]
  },
  {
   "cell_type": "code",
   "execution_count": 3,
   "metadata": {},
   "outputs": [
    {
     "data": {
      "text/plain": [
       "'username'"
      ]
     },
     "execution_count": 3,
     "metadata": {},
     "output_type": "execute_result"
    }
   ],
   "source": [
    "#Assuming that we have some email addresses in the &quot;username@companyname.com&quot; format,\n",
    "#please write program to print the user name of a given email address. Both user names and\n",
    "#company names are composed of letters only.\n",
    "#Example:\n",
    "#If the following email address is given as input to the program:\n",
    "def get_name(s):\n",
    "    try:\n",
    "        return s.split(\"@\")[0]\n",
    "    except:\n",
    "           print(\"the right answer\")\n",
    "get_name(\"username@companyname.com\")"
   ]
  },
  {
   "cell_type": "code",
   "execution_count": 9,
   "metadata": {},
   "outputs": [
    {
     "name": "stdout",
     "output_type": "stream",
     "text": [
      "25\n",
      "0\n"
     ]
    }
   ],
   "source": [
    "#Define a class named Shape and its subclass Square. The Square class has an init function\n",
    "#which takes a length as argument. Both classes have a area function which can print the area\n",
    "#of the shape where Shape&#39;s area is 0 by default.\n",
    "class shape():\n",
    "    def __init__(self):\n",
    "        pass\n",
    "    def area(self):\n",
    "        return 0\n",
    "class square(shape):\n",
    "    def __init__(self,length=0):\n",
    "        super(square,self).__init__()\n",
    "        self.length = length\n",
    "    def area(self):\n",
    "        return self.length*self.length\n",
    "sqr = square(5)\n",
    "print(sqr.area())\n",
    "print(square().area())"
   ]
  },
  {
   "cell_type": "code",
   "execution_count": 7,
   "metadata": {},
   "outputs": [
    {
     "name": "stdout",
     "output_type": "stream",
     "text": [
      "25\n",
      "0\n"
     ]
    }
   ],
   "source": []
  },
  {
   "cell_type": "code",
   "execution_count": null,
   "metadata": {},
   "outputs": [],
   "source": []
  }
 ],
 "metadata": {
  "kernelspec": {
   "display_name": "Python 3",
   "language": "python",
   "name": "python3"
  },
  "language_info": {
   "codemirror_mode": {
    "name": "ipython",
    "version": 3
   },
   "file_extension": ".py",
   "mimetype": "text/x-python",
   "name": "python",
   "nbconvert_exporter": "python",
   "pygments_lexer": "ipython3",
   "version": "3.8.3"
  }
 },
 "nbformat": 4,
 "nbformat_minor": 4
}
