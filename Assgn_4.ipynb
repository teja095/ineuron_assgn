{
 "cells": [
  {
   "cell_type": "markdown",
   "metadata": {},
   "source": [
    " What is the purpose of the General Linear Model (GLM)?\n",
    "\n",
    "to model the relationship between a dependent variable and one or more independent variables. \n",
    "It provides a flexible approach to analyze and understand the relationships between variables"
   ]
  },
  {
   "cell_type": "code",
   "execution_count": null,
   "metadata": {},
   "outputs": [],
   "source": [
    "What are the key assumptions of the General Linear Model?\n",
    "\n",
    "the relationship between independent variable and dependent variable must be linear.\n",
    "dataset should be independent of each other.\n",
    "spread of residuals should be consistent throughout the range of predictors."
   ]
  },
  {
   "cell_type": "markdown",
   "metadata": {},
   "source": [
    "How do you interpret the coefficients in a GLM?\n",
    "\n",
    "The coefficients provide information about the magnitude and direction of the effect that each independent variable has on the dependent variable, assuming all other variables in the model are held constant. Here's how you can interpret the coefficients in the GLM:\n"
   ]
  },
  {
   "cell_type": "code",
   "execution_count": null,
   "metadata": {},
   "outputs": [],
   "source": [
    "What is the difference between a univariate and multivariate GLM?\n",
    "univariate - comparisons between single variable\n",
    "mulitvairate - relationship between two or three variable\n"
   ]
  },
  {
   "cell_type": "markdown",
   "metadata": {},
   "source": [
    "Explain the concept of interaction effects in a GLM.\n",
    "\n",
    "interactions are tested using product term coefficients, \n",
    "which are then interpreted as the degree to which the effect of a focal predictor on the outcome changes for every unit change \n",
    "in the other variable (and vice-versa)"
   ]
  },
  {
   "cell_type": "code",
   "execution_count": null,
   "metadata": {},
   "outputs": [],
   "source": [
    "How do you handle categorical predictors in a GLM?\n",
    "\n",
    "Dummy coding:- creating binary (0/1) dummy variables for each category within the categorical variable\n",
    "    \n",
    "One-Hot Encoding: It creates a separate binary variable for each category within the categorical variable."
   ]
  },
  {
   "cell_type": "markdown",
   "metadata": {},
   "source": [
    "What is the purpose of the design matrix in a GLM?\n",
    "\n",
    "The design matrix serves the purpose of encoding the relationships between the independent variables and the dependent variable, \n",
    "allowing the GLM to estimate the coefficients and make predictions. "
   ]
  },
  {
   "cell_type": "code",
   "execution_count": null,
   "metadata": {},
   "outputs": [],
   "source": [
    "How do you test the significance of predictors in a GLM?\n",
    "\n",
    "Determine whether the association between the response and the term is statistically significant ·\n",
    "how well the model fits the data"
   ]
  },
  {
   "cell_type": "markdown",
   "metadata": {},
   "source": [
    "Explain the concept of deviance in a GLM\n",
    "\n",
    "how much variation in the data does our Proposed Model account for."
   ]
  },
  {
   "cell_type": "markdown",
   "metadata": {},
   "source": [
    "### Regression Analysis"
   ]
  },
  {
   "cell_type": "code",
   "execution_count": null,
   "metadata": {},
   "outputs": [],
   "source": [
    "What is regression analysis and what is its purpose?\n",
    "\n",
    "used to model the relationship between a dependent variable and one or more independent variables. \n",
    "It aims to understand how changes in the independent variables are associated with changes in the dependent variable"
   ]
  },
  {
   "cell_type": "markdown",
   "metadata": {},
   "source": [
    "What is the difference between simple linear regression and multiple linear regression?\n",
    "\n",
    "Simple linear regression involves a single independent variable (X) and a continuous dependent variable (Y). \n",
    "\n",
    "Multiple linear regression involves two or more independent variables and a continuous dependent variable (Y). "
   ]
  },
  {
   "cell_type": "code",
   "execution_count": null,
   "metadata": {},
   "outputs": [],
   "source": [
    "How do you interpret the R-squared value in regression?\n",
    "\n",
    "R-squared is a widely used measure to assess the goodness of fit in regression. \n",
    "It represents the proportion of the variance in the dependent variable that can be explained by the independent variables in the model. \n",
    "R-squared ranges from 0 to 1, with a higher value indicating a better fit."
   ]
  },
  {
   "cell_type": "markdown",
   "metadata": {},
   "source": [
    "What is the difference between correlation and regression\n",
    "\n",
    "correlation measures the degree of a relationship between two independent variables (x and y). \n",
    "regression is how one variable affects another"
   ]
  },
  {
   "cell_type": "code",
   "execution_count": null,
   "metadata": {},
   "outputs": [],
   "source": [
    "What is the difference between the coefficients and the intercept in regression?\n",
    "\n",
    "coeff - slope of the line\n",
    "intercept - constant"
   ]
  },
  {
   "cell_type": "markdown",
   "metadata": {},
   "source": [
    "How do you handle outliers in regression analysis?\n",
    "\n",
    "\n",
    "replacing one variable \n",
    "\n",
    "assigning dummy variable to the dataset\n"
   ]
  },
  {
   "cell_type": "code",
   "execution_count": null,
   "metadata": {},
   "outputs": [],
   "source": [
    "What is the difference between ridge regression and ordinary least squares regression\n",
    "\n",
    "OLS tends to give higher variance for coefficients corresponding to predictors with higher variance, \n",
    "while Ridge Regression reduces the variance differences between coefficients by shrinking them towards zero"
   ]
  },
  {
   "cell_type": "markdown",
   "metadata": {},
   "source": [
    "What is heteroscedasticity in regression and how does it affect the model?\n",
    "\n",
    "a condition in which the variance of the residual term, or error term, in a regression model varies widely\n",
    "makes a regression model less dependable because the residuals should not follow any specific pattern"
   ]
  },
  {
   "cell_type": "code",
   "execution_count": null,
   "metadata": {},
   "outputs": [],
   "source": [
    "How do you handle multicollinearity in regression analysis?\n",
    "\n",
    "there we can convert the feature variable into dummy or we can remove an feature which has VIF \n",
    "so that we can reduce the similarity between the features"
   ]
  },
  {
   "cell_type": "markdown",
   "metadata": {},
   "source": [
    "What is polynomial regression and when is it used?\n",
    "\n",
    "machine learning model that can capture non-linear relationships between variables by fitting a non-linear regression line"
   ]
  },
  {
   "cell_type": "code",
   "execution_count": null,
   "metadata": {},
   "outputs": [],
   "source": [
    "What is a loss function and what is its purpose in machine learning?\n",
    "\n",
    "a measure used to quantify the discrepancy or error between the predicted values \n",
    "and the true values in a machine learning or optimization problem. \n",
    "\n",
    "purpose\n",
    "The choice of a suitable loss function depends on the specific task and the nature of the problem"
   ]
  },
  {
   "cell_type": "markdown",
   "metadata": {},
   "source": [
    "What is the difference between a convex and non-convex loss function?\n",
    "\n",
    "Convexity is a property that can be observed in loss functions, and it has important implications in optimization algorithms\n",
    "\n",
    "Non-cnvex Non-convexity can pose challenges in finding the global minimum as optimization algorithms may get stuck in suboptimal solutions"
   ]
  },
  {
   "cell_type": "code",
   "execution_count": null,
   "metadata": {},
   "outputs": [],
   "source": [
    "What is mean squared error (MSE) and how is it calculated?\n",
    "\n",
    "This loss function calculates the average squared difference between the predicted and true values.\n",
    "It penalizes larger errors more severely.\n",
    "\n",
    "Loss(y, ŷ) = (1/n) * ∑(y - ŷ)^2"
   ]
  },
  {
   "cell_type": "markdown",
   "metadata": {},
   "source": [
    "What is mean absolute error (MAE) and how is it calculated?\n",
    "\n",
    "measures the average of the absolute differences between the predicted and true values\n",
    "\n",
    "Loss(y, ŷ) = (1/n) * ∑|y - ŷ|\n",
    "\n"
   ]
  },
  {
   "cell_type": "code",
   "execution_count": null,
   "metadata": {},
   "outputs": [],
   "source": [
    "What is log loss (cross-entropy loss) and how is it calculated?\n",
    "\n",
    "This loss function is used for multi-class classification problems, where the goal is to estimate the probability distribution across multiple classes.\n",
    "It measures the discrepancy between the predicted probabilities and the true class labels."
   ]
  },
  {
   "cell_type": "code",
   "execution_count": null,
   "metadata": {},
   "outputs": [],
   "source": []
  }
 ],
 "metadata": {
  "kernelspec": {
   "display_name": "Python 3",
   "language": "python",
   "name": "python3"
  },
  "language_info": {
   "codemirror_mode": {
    "name": "ipython",
    "version": 3
   },
   "file_extension": ".py",
   "mimetype": "text/x-python",
   "name": "python",
   "nbconvert_exporter": "python",
   "pygments_lexer": "ipython3",
   "version": "3.8.3"
  }
 },
 "nbformat": 4,
 "nbformat_minor": 4
}
