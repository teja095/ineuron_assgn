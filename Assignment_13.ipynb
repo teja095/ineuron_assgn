{
 "cells": [
  {
   "cell_type": "markdown",
   "metadata": {},
   "source": [
    "Ans 1"
   ]
  },
  {
   "cell_type": "code",
   "execution_count": 6,
   "metadata": {},
   "outputs": [],
   "source": [
    "class Node:\n",
    "    def __init__(self,data):\n",
    "        self.data = data \n",
    "        self.next = None\n",
    "def merge_lists(list1,list2):\n",
    "    if not list1:\n",
    "        return list2\n",
    "    if not list2:\n",
    "        return list1\n",
    "    if list1.data >= list2.data:\n",
    "        merge_list = Node(list1.data)\n",
    "        merge_list.next = merge_lists(list1.next,list2.next)\n",
    "    else:\n",
    "        merge_list = Node(list2.data)\n",
    "        merge_list.next = merge_lists(list1.next,list2.next)\n",
    "    return merge_list"
   ]
  },
  {
   "cell_type": "markdown",
   "metadata": {},
   "source": [
    "Ans 2"
   ]
  },
  {
   "cell_type": "code",
   "execution_count": 8,
   "metadata": {},
   "outputs": [
    {
     "name": "stdout",
     "output_type": "stream",
     "text": [
      "11 -> 21 -> 43 -> 60 -> "
     ]
    }
   ],
   "source": [
    "class Node:\n",
    "    def __init__(self, data):\n",
    "        self.data = data\n",
    "        self.next = None\n",
    "\n",
    "def remove_duplicates(head):\n",
    "    if head is None:\n",
    "        return head\n",
    "\n",
    "    current = head\n",
    "    while current.next is not None:\n",
    "        if current.data == current.next.data:\n",
    "            current.next = current.next.next\n",
    "        else:\n",
    "            current = current.next\n",
    "\n",
    "    return head\n",
    "\n",
    "head = Node(11)\n",
    "head.next = Node(11)\n",
    "head.next.next = Node(11)\n",
    "head.next.next.next = Node(21)\n",
    "head.next.next.next.next = Node(43)\n",
    "head.next.next.next.next.next = Node(43)\n",
    "head.next.next.next.next.next.next = Node(60)\n",
    "\n",
    "# Remove duplicates\n",
    "head = remove_duplicates(head)\n",
    "\n",
    "# Traverse and print the resulting linked list\n",
    "current = head\n",
    "while current is not None:\n",
    "    print(current.data, end=\" -> \")\n",
    "    current = current.next"
   ]
  },
  {
   "cell_type": "markdown",
   "metadata": {},
   "source": [
    "Ans 4"
   ]
  },
  {
   "cell_type": "code",
   "execution_count": 9,
   "metadata": {},
   "outputs": [],
   "source": [
    "class Node:\n",
    "    def __init__(self, data):\n",
    "        self.data = data\n",
    "        self.next = None\n",
    "\n",
    "def reverseAlternateKNodes(head, k):\n",
    "    if not head:\n",
    "        return None\n",
    "\n",
    "    current = head\n",
    "    prev = None\n",
    "    next = None\n",
    "    count = 0\n",
    "\n",
    "    \n",
    "    while current and count < k:\n",
    "        next = current.next\n",
    "        current.next = prev\n",
    "        prev = current\n",
    "        current = next\n",
    "        count += 1\n",
    "\n",
    "    \n",
    "    if head:\n",
    "        head.next = current\n",
    "\n",
    " \n",
    "    count = 0\n",
    "    while count < k - 1 and current:\n",
    "        current = current.next\n",
    "        count += 1\n",
    "\n",
    "    \n",
    "    if current:\n",
    "        current.next = reverseAlternateKNodes(current.next, k)\n",
    "\n",
    "    return prev\n"
   ]
  },
  {
   "cell_type": "markdown",
   "metadata": {},
   "source": [
    "Ans 5"
   ]
  },
  {
   "cell_type": "code",
   "execution_count": 10,
   "metadata": {},
   "outputs": [],
   "source": [
    "class Node:\n",
    "    def __init__(self, data):\n",
    "        self.data = data\n",
    "        self.next = None\n",
    "\n",
    "def delete_last_occurrence(head, key):\n",
    "    if head is None:\n",
    "        return head\n",
    "\n",
    "    last_occurrence = None\n",
    "    current = head\n",
    "    prev = None\n",
    "\n",
    "    \n",
    "    while current is not None:\n",
    "        if current.data == key:\n",
    "            last_occurrence = current\n",
    "        prev = current\n",
    "        current = current.next\n",
    "\n",
    "   \n",
    "    if last_occurrence is not None:\n",
    "        if last_occurrence == head:\n",
    "            head = head.next\n",
    "        else:\n",
    "            prev.next = last_occurrence.next\n",
    "\n",
    "    return head\n"
   ]
  },
  {
   "cell_type": "code",
   "execution_count": null,
   "metadata": {},
   "outputs": [],
   "source": []
  }
 ],
 "metadata": {
  "kernelspec": {
   "display_name": "Python 3",
   "language": "python",
   "name": "python3"
  },
  "language_info": {
   "codemirror_mode": {
    "name": "ipython",
    "version": 3
   },
   "file_extension": ".py",
   "mimetype": "text/x-python",
   "name": "python",
   "nbconvert_exporter": "python",
   "pygments_lexer": "ipython3",
   "version": "3.8.3"
  }
 },
 "nbformat": 4,
 "nbformat_minor": 4
}
