{
 "cells": [
  {
   "cell_type": "code",
   "execution_count": null,
   "metadata": {},
   "outputs": [],
   "source": [
    "from datetime import date\n",
    "td = date.today()\n",
    "td_st = td.isoformat()\n",
    "with open('today', 'wt') as output:\n",
    "    print(td_st , file = output)"
   ]
  },
  {
   "cell_type": "code",
   "execution_count": null,
   "metadata": {},
   "outputs": [],
   "source": [
    "with open ('today','rt') as input:\n",
    "    today_string = input.read()\n",
    "\n",
    "today_string"
   ]
  },
  {
   "cell_type": "code",
   "execution_count": null,
   "metadata": {},
   "outputs": [],
   "source": [
    "fm = '%Y-%m-%d\\n'\n",
    "datetime.strptime(today_string,fm)\n",
    "datetime.datetime(2012,12,1,0,0)"
   ]
  },
  {
   "cell_type": "code",
   "execution_count": 17,
   "metadata": {},
   "outputs": [
    {
     "data": {
      "text/plain": [
       "['programming_basic_assign_15.ipynb',\n",
       " 'program_aasgn_21.ipynb',\n",
       " 'program_assgn_17.ipynb',\n",
       " 'program_assgn_18.ipynb',\n",
       " 'program_assgn_19.ipynb',\n",
       " 'program_assgn_20.ipynb',\n",
       " 'program_assgn_22.ipynb',\n",
       " 'program_assgn_23.ipynb',\n",
       " 'program_assgn_24.ipynb',\n",
       " 'program_basic_assign1 (1).ipynb',\n",
       " 'Programming_basic_ Assignment_14.ipynb',\n",
       " 'programming_basic_assign_2 (1).ipynb',\n",
       " 'program_assgn_25.ipynb',\n",
       " '.ipynb_checkpoints',\n",
       " 'program_basic_15.ipynb',\n",
       " 'program_basic_16.ipynb',\n",
       " 'program_basic_17.ipynb',\n",
       " 'program_basic_18.ipynb',\n",
       " 'Untitled1.ipynb',\n",
       " 'Untitled2.ipynb',\n",
       " 'Untitled3.ipynb',\n",
       " 'program_basic_19.ipynb',\n",
       " 'program_basic_20.ipynb',\n",
       " 'text.txt',\n",
       " 'book.csv',\n",
       " 'books.db',\n",
       " 'python_basic_21.ipynb',\n",
       " '01 Dec 2021today.txt',\n",
       " 'today',\n",
       " 'progam_adv_assgn_2.ipynb',\n",
       " 'program_adv_4.ipynb',\n",
       " 'prgm_adv_5.ipynb',\n",
       " 'program_adv_6.ipynb',\n",
       " 'program_adv_8.ipynb',\n",
       " 'program_adv_9.ipynb',\n",
       " 'program_basic_3.ipynb',\n",
       " 'program_basic_4.ipynb',\n",
       " 'program_basic_5.ipynb',\n",
       " 'program_basic_6.ipynb',\n",
       " 'Untitled.ipynb',\n",
       " 'program_basic_7.ipynb',\n",
       " 'program_basic_8.ipynb',\n",
       " 'program_basic_9.ipynb',\n",
       " 'program_basic_10.ipynb',\n",
       " 'program_basic_11.ipynb',\n",
       " 'program_basic_12.ipynb',\n",
       " 'program_basic_13.ipynb',\n",
       " 'program_basic_14.ipynb',\n",
       " 'test.txt']"
      ]
     },
     "execution_count": 17,
     "metadata": {},
     "output_type": "execute_result"
    }
   ],
   "source": [
    "import os \n",
    "os.listdir('.')"
   ]
  },
  {
   "cell_type": "code",
   "execution_count": 18,
   "metadata": {},
   "outputs": [
    {
     "data": {
      "text/plain": [
       "['System Volume Information',\n",
       " 'project',\n",
       " 'flip-zip',\n",
       " 'flip',\n",
       " 'counting_fig',\n",
       " 'QuntApt',\n",
       " 'udacity',\n",
       " '__MACOSX',\n",
       " 'pdsnd_github',\n",
       " 'Function and files.ipynb',\n",
       " 'cf',\n",
       " 'ATI',\n",
       " 'zerodha',\n",
       " 'sql practice',\n",
       " 'local repo',\n",
       " 'excel',\n",
       " 'udac-fil',\n",
       " 'goal',\n",
       " 'Rstudio',\n",
       " 'apple',\n",
       " 'POC',\n",
       " 'drive',\n",
       " '101APPLE',\n",
       " '01_working_directory.R',\n",
       " 'ATI SQL 32.zip',\n",
       " 'ATI R 09.zip',\n",
       " 'poower bi study materials (1).rar',\n",
       " 'poower bi study materials.rar',\n",
       " 'Power BI Online-20200914 1335-1 (1).mp4',\n",
       " 'DataSets.zip',\n",
       " 'R Basics  (2020-08-24 at 02_34 GMT-7).mp4',\n",
       " 'R_Class.R',\n",
       " 'R_Case_Study_Day_1.pdf',\n",
       " '04_decison_making.R',\n",
       " 'R_Training.pdf',\n",
       " 'Control+Flow+Videos.zip',\n",
       " 'Data+Structures+Videos.zip',\n",
       " 'Data+Types+and+Operators+Videos.zip',\n",
       " 'Spreadsheets+1_+Getting+Started+Videos (1).zip',\n",
       " 'Spreadsheets+1_+Getting+Started+Videos.zip',\n",
       " 'Spreadsheets+1_+Getting+Started+Subtitles.zip',\n",
       " 'Copy of Git Commands Documentation.docx',\n",
       " 'Copy of Git Commands Documentation (1).pdf',\n",
       " 'Copy of Git Commands Documentation.pdf',\n",
       " 'bikeshare-2.zip',\n",
       " 'Explore+US+Bikeshare+Data+Videos.zip',\n",
       " 'logging',\n",
       " 'code_pandas1',\n",
       " 'casandra homework',\n",
       " 'EDA',\n",
       " 'PCA',\n",
       " 'Python Online (2020-07-06 at 05_30 GMT-7).mp4',\n",
       " 'BOOTEX.LOG',\n",
       " 'django',\n",
       " 'machine learning(webex)',\n",
       " 'udemy-sql',\n",
       " 'machine learning-kn',\n",
       " 'power bi',\n",
       " '19.2.MySQL',\n",
       " 'udacity_github',\n",
       " 'mi',\n",
       " 'certificate',\n",
       " 'Feature-Engineering-Live-sessions-master',\n",
       " '19.3 MongoDB',\n",
       " '21.Flask',\n",
       " '19.1.SqLite',\n",
       " 'reviewScrapper',\n",
       " 'Function in pyton  (1) (1).ipynb',\n",
       " 'oops 2.ipynb',\n",
       " 'reviewFlask',\n",
       " 'reviewFlask_heroku',\n",
       " 'ineuron_assgn',\n",
       " 'K-Nearest-Neighour-master',\n",
       " 'exception handling.ipynb',\n",
       " 'AReM_CSV',\n",
       " 'bagging',\n",
       " 'flipkart-full-scrapper',\n",
       " 'Stats EDA',\n",
       " 'numpy&pandas',\n",
       " 'Untitled.ipynb',\n",
       " '.ipynb_checkpoints',\n",
       " 'class and object.ipynb',\n",
       " 'kaggle datasets',\n",
       " 'Untitled1.ipynb',\n",
       " 'Logistic-regression',\n",
       " 'Screenshot (22).png',\n",
       " 'Screenshot (19).png',\n",
       " 'Screenshot (20).png',\n",
       " 'Screenshot (21).png',\n",
       " 'Decision tree',\n",
       " 'printout',\n",
       " 'Untitled2.ipynb',\n",
       " 'MachineLearningModelToAWS-master',\n",
       " 'hands_on_ml',\n",
       " 'mysqlsampledatabase',\n",
       " 'Untitled3.ipynb',\n",
       " 'HandsonMachine-Learning-with-Scikit-2E .pdf',\n",
       " 'oops 2 (2).ipynb',\n",
       " 'mongodb & mysql.ipynb',\n",
       " 'forest_cover_Classification.zip',\n",
       " 'archive',\n",
       " 'LinearRegression-master',\n",
       " 'EDA+Graded+Exercise (1) (1).ipynb',\n",
       " 'EDA+Graded+Exercise (2).ipynb',\n",
       " 'carbon_nanotubes csv to sql.ipynb',\n",
       " 'Complete-Feature-Selection-master',\n",
       " 'T-test-an-Correlation-using-python-master (1)',\n",
       " 'sampleResume-main',\n",
       " 'forestCover (2)',\n",
       " 'Untitled4.ipynb',\n",
       " 'mysql-quiz.md.txt',\n",
       " 'K-Means-clustering-master',\n",
       " 'Companies to Apply in 2021-converted.pdf',\n",
       " 'K-Means-Materials-master1',\n",
       " 'Hierarchical-Clutsering-master',\n",
       " 'Machine-Learning-in-90-days-master (1)',\n",
       " 'cross_validation',\n",
       " 'Types-of-Crossvalidation-master.zip',\n",
       " 'handson-ml2-master',\n",
       " 'pandas-profiling-develop',\n",
       " 'ensemble_boosting-1',\n",
       " 'sentiment_analysis_deploy (2)',\n",
       " 'interview prepration',\n",
       " 'design_doc_intern',\n",
       " 'ineuron_powerbi_dataset',\n",
       " 'ml_1',\n",
       " 'stats notes',\n",
       " 'udacity certificate.pdf',\n",
       " 'ineuron_cerificate.pdf',\n",
       " 'waferFaultDetection',\n",
       " 'creditCardDefaulters',\n",
       " 'Python-Practise-Problems-main',\n",
       " 'pandas-profiling-master',\n",
       " 'Time series sunspot (1) (2)',\n",
       " 'spark-20210808T144835Z-001',\n",
       " 'creditCardDefaulters.rar',\n",
       " 'practice_linear',\n",
       " 'timeSeries',\n",
       " 'linearregrn-task',\n",
       " 'linkedin_learning',\n",
       " 'ddi-media',\n",
       " 'Recruitment of Administrative Officer Scale I -Generalist.pdf',\n",
       " 'Machine Learning Module 1-20211123T043219Z-001',\n",
       " 'MachineLearningModelToHeroku-master',\n",
       " 'intern_ineuron',\n",
       " 'Zomato_Restaurant_Rating_Prediction-main',\n",
       " 'wafer_circleci-main',\n",
       " 'debugging and logging.ipynb',\n",
       " 'WaferFaultDetection_new',\n",
       " 'Zomato_Rest',\n",
       " 'practice_python.ipynb',\n",
       " 'python Programming basic  Assignment_13 (1).ipynb',\n",
       " 'eda-ineuron.ipynb',\n",
       " 'SWEETVIZ_REPORT.html']"
      ]
     },
     "execution_count": 18,
     "metadata": {},
     "output_type": "execute_result"
    }
   ],
   "source": [
    "import os\n",
    "os.listdir('..')"
   ]
  },
  {
   "cell_type": "code",
   "execution_count": 31,
   "metadata": {},
   "outputs": [
    {
     "name": "stdout",
     "output_type": "stream",
     "text": [
      "present seconds 2021-12-01 04:49:04.536184\n"
     ]
    }
   ],
   "source": [
    "import multiprocessing\n",
    "\n",
    "def now(seconds):\n",
    "    from datetime import datetime\n",
    "    from time import sleep\n",
    "    sleep(seconds)\n",
    "    print('present' , 'seconds' , datetime.utcnow())\n",
    "\n",
    "if __name__ == '__main__':\n",
    "    import random\n",
    "    for n in range(3):\n",
    "        seconds = random.random()\n",
    "        pr = multiprocessing.Process(target=now, args=(seconds,))\n",
    "        pr.start()\n"
   ]
  },
  {
   "cell_type": "code",
   "execution_count": 32,
   "metadata": {},
   "outputs": [
    {
     "data": {
      "text/plain": [
       "datetime.date(1995, 6, 10)"
      ]
     },
     "execution_count": 32,
     "metadata": {},
     "output_type": "execute_result"
    }
   ],
   "source": [
    "day_birth = date(1995,6,10)\n",
    "day_birth"
   ]
  },
  {
   "cell_type": "code",
   "execution_count": 34,
   "metadata": {},
   "outputs": [
    {
     "data": {
      "text/plain": [
       "6"
      ]
     },
     "execution_count": 34,
     "metadata": {},
     "output_type": "execute_result"
    }
   ],
   "source": [
    "day_birth.isoweekday()"
   ]
  },
  {
   "cell_type": "code",
   "execution_count": 35,
   "metadata": {},
   "outputs": [
    {
     "data": {
      "text/plain": [
       "datetime.date(2022, 10, 26)"
      ]
     },
     "execution_count": 35,
     "metadata": {},
     "output_type": "execute_result"
    }
   ],
   "source": [
    "from datetime import timedelta\n",
    "par_day = day_birth + timedelta(days=10000)\n",
    "par_day"
   ]
  },
  {
   "cell_type": "code",
   "execution_count": null,
   "metadata": {},
   "outputs": [],
   "source": []
  }
 ],
 "metadata": {
  "kernelspec": {
   "display_name": "Python 3",
   "language": "python",
   "name": "python3"
  },
  "language_info": {
   "codemirror_mode": {
    "name": "ipython",
    "version": 3
   },
   "file_extension": ".py",
   "mimetype": "text/x-python",
   "name": "python",
   "nbconvert_exporter": "python",
   "pygments_lexer": "ipython3",
   "version": "3.8.3"
  }
 },
 "nbformat": 4,
 "nbformat_minor": 4
}
