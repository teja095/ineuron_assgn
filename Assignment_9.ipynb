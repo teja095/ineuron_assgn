{
 "cells": [
  {
   "cell_type": "code",
   "execution_count": 2,
   "metadata": {},
   "outputs": [
    {
     "name": "stdout",
     "output_type": "stream",
     "text": [
      "True\n"
     ]
    }
   ],
   "source": [
    "### checking if n is power of two then return True\n",
    "def is_power_two(n):\n",
    "    if n <= 0:\n",
    "        return False\n",
    "    return n & (n-1) == 0\n",
    "print(is_power_two(1))"
   ]
  },
  {
   "cell_type": "code",
   "execution_count": 11,
   "metadata": {},
   "outputs": [
    {
     "data": {
      "text/plain": [
       "6"
      ]
     },
     "execution_count": 11,
     "metadata": {},
     "output_type": "execute_result"
    }
   ],
   "source": [
    "def sum_of_natural_numbers(n):\n",
    "    sum = (n / 2) * (1 + n)\n",
    "    return int(sum)\n",
    "sum_of_natural_numbers(3)"
   ]
  },
  {
   "cell_type": "code",
   "execution_count": 12,
   "metadata": {},
   "outputs": [
    {
     "data": {
      "text/plain": [
       "120"
      ]
     },
     "execution_count": 12,
     "metadata": {},
     "output_type": "execute_result"
    }
   ],
   "source": [
    "def factorial(N):\n",
    "    result = 1\n",
    "    for i in range(1, N + 1):\n",
    "        result *= i\n",
    "    return result\n",
    "factorial(5)"
   ]
  },
  {
   "cell_type": "code",
   "execution_count": 13,
   "metadata": {},
   "outputs": [
    {
     "name": "stdout",
     "output_type": "stream",
     "text": [
      "4.8283137373023015\n"
     ]
    }
   ],
   "source": [
    "import math\n",
    "\n",
    "N = 5  # Base number\n",
    "P = 3  # Power\n",
    "\n",
    "result = math.log(N**P)\n",
    "print(result)\n"
   ]
  },
  {
   "cell_type": "code",
   "execution_count": 22,
   "metadata": {},
   "outputs": [
    {
     "name": "stdout",
     "output_type": "stream",
     "text": [
      "8\n"
     ]
    }
   ],
   "source": [
    "## using recursion relation: T(n) = 2T(n/2)+c\n",
    "### using master theorem: T(n) = O(n)\n",
    "### method definition of maxmin function\n",
    "\n",
    "def findmaxmin(arr,i,j):\n",
    "    ## small problem -c \n",
    "    ### single condition \n",
    "    if i == j:\n",
    "        max_val = arr[i]\n",
    "        \n",
    "    ### two element condition\n",
    "    elif i == j - 1:\n",
    "        if arr[i] < arr[j]:\n",
    "            max_val = arr[j]\n",
    "        else:\n",
    "            max_val = arr[i]\n",
    "            \n",
    "    ### big problem n < 2\n",
    "    else:\n",
    "        ### divide and conquer approach\n",
    "        ### 1 - divide - c\n",
    "        mid = i + (j-i)//2\n",
    "        ### 2 - recursion -- 2t(n/2)\n",
    "        max_1 = findmaxmin(arr,i,mid)\n",
    "        max_2 = findmaxmin(arr,mid+1,j)\n",
    "        ### combine\n",
    "        ### to find the maxima - c\n",
    "        if max_1 < max_2:\n",
    "            max_val = max_2\n",
    "        else:\n",
    "            max_val = max_1\n",
    "        ### to find the minima\n",
    "       \n",
    "    return max_val\n",
    "\n",
    "### driver code\n",
    "arr = [1, 4, 3, -5, -4, 8, 6]\n",
    "#### starting index \n",
    "i = 0\n",
    "### ending index\n",
    "j = len(arr) - 1\n",
    "max_val = findmaxmin(arr,i,j)\n",
    "print(max_val)\n",
    "                                  \n",
    "        \n",
    "            \n",
    "        "
   ]
  },
  {
   "cell_type": "code",
   "execution_count": 23,
   "metadata": {},
   "outputs": [
    {
     "name": "stdout",
     "output_type": "stream",
     "text": [
      "Enter a string: abcc\n",
      "Permutations:\n",
      "abcc\n",
      "abcc\n",
      "acbc\n",
      "accb\n",
      "acbc\n",
      "accb\n",
      "bacc\n",
      "bacc\n",
      "bcac\n",
      "bcca\n",
      "bcac\n",
      "bcca\n",
      "cabc\n",
      "cacb\n",
      "cbac\n",
      "cbca\n",
      "ccab\n",
      "ccba\n",
      "cabc\n",
      "cacb\n",
      "cbac\n",
      "cbca\n",
      "ccab\n",
      "ccba\n"
     ]
    }
   ],
   "source": [
    "def permutations(s):\n",
    "    if len(s) == 1:\n",
    "        return [s]\n",
    "\n",
    "    perms = []\n",
    "    for i in range(len(s)):\n",
    "        first_char = s[i]\n",
    "        remaining_chars = s[:i] + s[i+1:]\n",
    "        for perm in permutations(remaining_chars):\n",
    "            perms.append(first_char + perm)\n",
    "\n",
    "    return perms\n",
    "\n",
    "# Test the function\n",
    "string = input(\"Enter a string: \")\n",
    "result = permutations(string)\n",
    "print(\"Permutations:\")\n",
    "for perm in result:\n",
    "    print(perm)\n"
   ]
  },
  {
   "cell_type": "code",
   "execution_count": 24,
   "metadata": {},
   "outputs": [
    {
     "name": "stdout",
     "output_type": "stream",
     "text": [
      "120\n"
     ]
    }
   ],
   "source": [
    "def product_of_array_elements(arr):\n",
    "    product = 1\n",
    "    for element in arr:\n",
    "        product *= element\n",
    "    return product\n",
    "\n",
    "# Example usage\n",
    "array = [2, 3, 4, 5]\n",
    "result = product_of_array_elements(array)\n",
    "print(result) "
   ]
  },
  {
   "cell_type": "code",
   "execution_count": null,
   "metadata": {},
   "outputs": [],
   "source": []
  }
 ],
 "metadata": {
  "kernelspec": {
   "display_name": "Python 3",
   "language": "python",
   "name": "python3"
  },
  "language_info": {
   "codemirror_mode": {
    "name": "ipython",
    "version": 3
   },
   "file_extension": ".py",
   "mimetype": "text/x-python",
   "name": "python",
   "nbconvert_exporter": "python",
   "pygments_lexer": "ipython3",
   "version": "3.8.3"
  }
 },
 "nbformat": 4,
 "nbformat_minor": 4
}
