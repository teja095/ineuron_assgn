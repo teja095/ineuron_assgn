{
 "cells": [
  {
   "cell_type": "code",
   "execution_count": 5,
   "metadata": {},
   "outputs": [
    {
     "name": "stdout",
     "output_type": "stream",
     "text": [
      "same\n",
      "<__main__.thing object at 0x00000145F6A69EB0>\n"
     ]
    }
   ],
   "source": [
    "example = thing()\n",
    "class thing:\n",
    "    print('same')\n",
    "print(example)\n"
   ]
  },
  {
   "cell_type": "code",
   "execution_count": 3,
   "metadata": {},
   "outputs": [
    {
     "name": "stdout",
     "output_type": "stream",
     "text": [
      "<__main__.thing object at 0x00000145F6A69280>\n"
     ]
    }
   ],
   "source": [
    "print(example)"
   ]
  },
  {
   "cell_type": "code",
   "execution_count": 6,
   "metadata": {},
   "outputs": [
    {
     "name": "stdout",
     "output_type": "stream",
     "text": [
      "abc\n"
     ]
    }
   ],
   "source": [
    "class thing2:\n",
    "    letters = 'abc'\n",
    "print(thing2.letters)"
   ]
  },
  {
   "cell_type": "code",
   "execution_count": 8,
   "metadata": {},
   "outputs": [
    {
     "name": "stdout",
     "output_type": "stream",
     "text": [
      "xyz\n"
     ]
    }
   ],
   "source": [
    "class thing3:\n",
    "    def __init__(self):\n",
    "        self.letters = 'xyz'\n",
    "something = thing3()\n",
    "print(something.letters)"
   ]
  },
  {
   "cell_type": "code",
   "execution_count": 12,
   "metadata": {},
   "outputs": [],
   "source": [
    "class element:\n",
    "    def __init__(self,name,symbol,number):\n",
    "        self.name = name\n",
    "        self.symbol = symbol\n",
    "        self.number = number\n",
    "hydrogen = element(\"Hydrogen\",\"H\",1)\n"
   ]
  },
  {
   "cell_type": "code",
   "execution_count": 13,
   "metadata": {},
   "outputs": [
    {
     "data": {
      "text/plain": [
       "'Hydrogen'"
      ]
     },
     "execution_count": 13,
     "metadata": {},
     "output_type": "execute_result"
    }
   ],
   "source": [
    "ele = {'name':'Hydrogen','symbol':'H','number':1}\n",
    "hydrogen = element(ele['name'],ele['symbol'],ele['number'])\n",
    "\n",
    "hydrogen.name"
   ]
  },
  {
   "cell_type": "code",
   "execution_count": 14,
   "metadata": {},
   "outputs": [
    {
     "name": "stdout",
     "output_type": "stream",
     "text": [
      "name =Hydrogen, symbol =H, number=1\n"
     ]
    }
   ],
   "source": [
    "class element:\n",
    "    def __init__(self,name,symbol,number):\n",
    "        self.name = name\n",
    "        self.symbol = symbol\n",
    "        self.number = number\n",
    "    def dump(self):\n",
    "        print('name =%s, symbol =%s, number=%s'%\n",
    "             (self.name, self.symbol, self.number))\n",
    "hydrogen = element(**ele)\n",
    "hydrogen.dump()\n",
    "    "
   ]
  },
  {
   "cell_type": "code",
   "execution_count": 15,
   "metadata": {},
   "outputs": [
    {
     "name": "stdout",
     "output_type": "stream",
     "text": [
      "<__main__.element object at 0x00000145F6A73400>\n",
      "name =Hydrogen, symbol =H, number=1\n"
     ]
    }
   ],
   "source": [
    "print(hydrogen)\n",
    "class element:\n",
    "    def __init__(self,name,symbol,number):\n",
    "        self.name = name\n",
    "        self.symbol = symbol\n",
    "        self.number = number\n",
    "    def __str__(self):\n",
    "        return('name =%s, symbol =%s, number=%s'%\n",
    "             (self.name, self.symbol, self.number))\n",
    "hydrogen = element(**ele)\n",
    "print(hydrogen)\n"
   ]
  },
  {
   "cell_type": "code",
   "execution_count": 19,
   "metadata": {},
   "outputs": [
    {
     "data": {
      "text/plain": [
       "<bound method element.name of <__main__.element object at 0x00000145F6B5E3D0>>"
      ]
     },
     "execution_count": 19,
     "metadata": {},
     "output_type": "execute_result"
    }
   ],
   "source": [
    "class element:\n",
    "    def __init__(self,name,symbol,number):\n",
    "        self.__name = name\n",
    "        self.__symbol = symbol\n",
    "        self.__number = number\n",
    "    def name(self):\n",
    "        return self.__name\n",
    "    def symbol(self):\n",
    "        return self.__symbol\n",
    "    def number(self):\n",
    "        return self.__number\n",
    "    \n",
    "hydrogen = element(\"hydrogen\",\"H\",1)\n",
    "hydrogen.name\n"
   ]
  },
  {
   "cell_type": "code",
   "execution_count": 23,
   "metadata": {},
   "outputs": [
    {
     "name": "stdout",
     "output_type": "stream",
     "text": [
      "berries\n",
      "clover\n",
      "campers\n"
     ]
    }
   ],
   "source": [
    "class bear:\n",
    "    def eats(self):\n",
    "        return 'berries'\n",
    "class rabbits:\n",
    "    def eats(self):\n",
    "        return 'clover'\n",
    "class octothrope:\n",
    "    def eats(self):\n",
    "        return 'campers'\n",
    "b = bear()\n",
    "r = rabbits()\n",
    "o = octothrope()\n",
    "print(b.eats())\n",
    "print(r.eats())\n",
    "print(o.eats())"
   ]
  },
  {
   "cell_type": "code",
   "execution_count": 27,
   "metadata": {},
   "outputs": [
    {
     "name": "stdout",
     "output_type": "stream",
     "text": [
      "('disintegrate', 'crush', 'ring')\n"
     ]
    }
   ],
   "source": [
    "class Laser:\n",
    "    def does(self):\n",
    "        return 'disintegrate'\n",
    "class Claw:\n",
    "    def does(self):\n",
    "        return 'crush'\n",
    "class Smartphone:\n",
    "     def does(self):\n",
    "        return 'ring'\n",
    "class robot:\n",
    "    def __init__(self):\n",
    "        self.laser = Laser()\n",
    "        self.claw = Claw()\n",
    "        self.smartphone = Smartphone()\n",
    "    def does(self):\n",
    "        return(self.laser.does(),\n",
    "              self.claw.does(),\n",
    "              self.smartphone.does())\n",
    "robbie = robot()\n",
    "print(robbie.does())"
   ]
  },
  {
   "cell_type": "code",
   "execution_count": null,
   "metadata": {},
   "outputs": [],
   "source": []
  }
 ],
 "metadata": {
  "kernelspec": {
   "display_name": "Python 3",
   "language": "python",
   "name": "python3"
  },
  "language_info": {
   "codemirror_mode": {
    "name": "ipython",
    "version": 3
   },
   "file_extension": ".py",
   "mimetype": "text/x-python",
   "name": "python",
   "nbconvert_exporter": "python",
   "pygments_lexer": "ipython3",
   "version": "3.8.3"
  }
 },
 "nbformat": 4,
 "nbformat_minor": 4
}
