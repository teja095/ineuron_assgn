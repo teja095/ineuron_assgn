{
 "cells": [
  {
   "cell_type": "markdown",
   "metadata": {},
   "source": [
    "Ans 1"
   ]
  },
  {
   "cell_type": "code",
   "execution_count": 3,
   "metadata": {},
   "outputs": [
    {
     "name": "stdout",
     "output_type": "stream",
     "text": [
      "2\n"
     ]
    }
   ],
   "source": [
    "def sqr(x):\n",
    "    if x == 0:\n",
    "        return 0\n",
    "    left,right = 1,x\n",
    "    while left <= right:\n",
    "        m = left + right // 2\n",
    "        if m*m == x:\n",
    "            return m\n",
    "        elif m*m < x:\n",
    "            left = m + 1\n",
    "        else:\n",
    "            right = m - 1\n",
    "            \n",
    "    return right\n",
    "x = 8\n",
    "r = sqr(x)\n",
    "print(r)\n"
   ]
  },
  {
   "cell_type": "markdown",
   "metadata": {},
   "source": [
    "Ans 2"
   ]
  },
  {
   "cell_type": "code",
   "execution_count": 6,
   "metadata": {},
   "outputs": [
    {
     "name": "stdout",
     "output_type": "stream",
     "text": [
      "2\n"
     ]
    }
   ],
   "source": [
    "def grt(nums):\n",
    "    left = 0 \n",
    "    right = len(nums) -1\n",
    "    \n",
    "    while left < right:\n",
    "        m = left + (right - left) // 2\n",
    "        if nums[m] > nums[m+1]:\n",
    "             right = m\n",
    "        elif nums[m] <= nums[m+1]:\n",
    "            left = m + 1\n",
    "    return left\n",
    "\n",
    "\n",
    "nums = [1,2,3,1]\n",
    "r = grt(nums)\n",
    "print(r)\n",
    "            \n",
    "        \n",
    "    "
   ]
  },
  {
   "cell_type": "markdown",
   "metadata": {},
   "source": [
    "Ans 3"
   ]
  },
  {
   "cell_type": "code",
   "execution_count": 8,
   "metadata": {},
   "outputs": [
    {
     "name": "stdout",
     "output_type": "stream",
     "text": [
      "8\n"
     ]
    }
   ],
   "source": [
    "def missing(nums):\n",
    "    n = len(nums)\n",
    "    total_sum = (n*(n+1))//2\n",
    "    exp_sum = sum(nums)\n",
    "    miss = total_sum - exp_sum\n",
    "    return miss\n",
    "\n",
    "nums = [9,6,4,2,3,5,7,0,1]\n",
    "r = missing(nums)\n",
    "print(r)"
   ]
  },
  {
   "cell_type": "markdown",
   "metadata": {},
   "source": [
    "ANS 4"
   ]
  },
  {
   "cell_type": "code",
   "execution_count": 11,
   "metadata": {},
   "outputs": [
    {
     "name": "stdout",
     "output_type": "stream",
     "text": [
      "1\n"
     ]
    }
   ],
   "source": [
    "def findDuplicate(nums):\n",
    "    # Step 1: Initialize slow and fast pointers\n",
    "    slow = fast = nums[0]\n",
    "\n",
    "    # Step 2: Find the meeting point within the cycle\n",
    "    while True:\n",
    "        slow = nums[slow]\n",
    "        fast = nums[nums[fast]]\n",
    "        if slow == fast:\n",
    "            break\n",
    "\n",
    "    # Step 3: Reset slow pointer to the first element\n",
    "    slow = nums[0]\n",
    "\n",
    "    # Step 4: Find the starting point of the cycle\n",
    "    while slow != fast:\n",
    "        slow = nums[slow]\n",
    "        fast = nums[fast]\n",
    "\n",
    "    # Step 5: Return the repeated number\n",
    "    return slow\n",
    "\n",
    "\n",
    "nums = [1,3,4,2,2]\n",
    "r = findduplicate(nums)\n",
    "print(r)\n",
    "    "
   ]
  },
  {
   "cell_type": "markdown",
   "metadata": {},
   "source": [
    "Ans 5"
   ]
  },
  {
   "cell_type": "code",
   "execution_count": 12,
   "metadata": {},
   "outputs": [
    {
     "name": "stdout",
     "output_type": "stream",
     "text": [
      "[9, 4]\n"
     ]
    }
   ],
   "source": [
    "def intersection(nums1, nums2):\n",
    "    set1 = set(nums1)\n",
    "    set2 = set(nums2)\n",
    "    return list(set1.intersection(set2))\n",
    "nums1 = [4,9,5]\n",
    "nums2 = [9,4,9,8,4]\n",
    "r = intersection(nums1,nums2)\n",
    "print(r)"
   ]
  },
  {
   "cell_type": "markdown",
   "metadata": {},
   "source": [
    "Ans 7"
   ]
  },
  {
   "cell_type": "code",
   "execution_count": 25,
   "metadata": {},
   "outputs": [
    {
     "name": "stdout",
     "output_type": "stream",
     "text": [
      "[4, 3]\n"
     ]
    }
   ],
   "source": [
    "def searchRange(nums, target):\n",
    "    start = -1\n",
    "    end = -1\n",
    "\n",
    "    # Find leftmost occurrence\n",
    "    left, right = 0, len(nums) - 1\n",
    "    while left <= right:\n",
    "        middle = (left + right) // 2\n",
    "        if nums[middle] >= target:\n",
    "            end = middle\n",
    "            right = middle - 1\n",
    "        else:\n",
    "            left = middle + 1\n",
    "\n",
    "    # If target not found\n",
    "    if end == -1:\n",
    "        return [-1, -1]\n",
    "\n",
    "    # Find rightmost occurrence\n",
    "    left, right = 0, len(nums) - 1\n",
    "    while left <= right:\n",
    "        middle = (left + right) // 2\n",
    "        if nums[middle] <= target:\n",
    "            start = middle\n",
    "            left = middle + 1\n",
    "        else:\n",
    "            right = middle - 1\n",
    "\n",
    "    return [start, end]\n",
    "nums =  [5,7,7,8,8,10]\n",
    "target = 8\n",
    "print(searchRange(nums, target))  "
   ]
  },
  {
   "cell_type": "markdown",
   "metadata": {},
   "source": [
    "Ans 8 "
   ]
  },
  {
   "cell_type": "code",
   "execution_count": 26,
   "metadata": {},
   "outputs": [
    {
     "name": "stdout",
     "output_type": "stream",
     "text": [
      "[2]\n"
     ]
    }
   ],
   "source": [
    "def intersection(nums1, nums2):\n",
    "    set1 = set(nums1)\n",
    "    set2 = set(nums2)\n",
    "    return list(set1.intersection(set2))\n",
    "nums1 = [1,2,2,1]\n",
    "nums2 = [2,2]\n",
    "\n",
    "r = intersection(nums1,nums2)\n",
    "print(r)"
   ]
  },
  {
   "cell_type": "code",
   "execution_count": null,
   "metadata": {},
   "outputs": [],
   "source": []
  }
 ],
 "metadata": {
  "kernelspec": {
   "display_name": "Python 3",
   "language": "python",
   "name": "python3"
  },
  "language_info": {
   "codemirror_mode": {
    "name": "ipython",
    "version": 3
   },
   "file_extension": ".py",
   "mimetype": "text/x-python",
   "name": "python",
   "nbconvert_exporter": "python",
   "pygments_lexer": "ipython3",
   "version": "3.8.3"
  }
 },
 "nbformat": 4,
 "nbformat_minor": 4
}
