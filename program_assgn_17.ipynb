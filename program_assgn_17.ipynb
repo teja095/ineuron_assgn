{
 "cells": [
  {
   "cell_type": "code",
   "execution_count": 2,
   "metadata": {},
   "outputs": [],
   "source": [
    "def sum1(a,b,c):\n",
    "    sum= 0\n",
    "    try:\n",
    "        for i in range(a,b+1):\n",
    "           if (i%c == 0):\n",
    "             sum= sum+i\n",
    "        return sum\n",
    "    except exception as e:\n",
    "        print(\"enter the right format\")\n",
    "\n"
   ]
  },
  {
   "cell_type": "code",
   "execution_count": 3,
   "metadata": {},
   "outputs": [
    {
     "data": {
      "text/plain": [
       "30"
      ]
     },
     "execution_count": 3,
     "metadata": {},
     "output_type": "execute_result"
    }
   ],
   "source": [
    "sum1(1,10,2)"
   ]
  },
  {
   "cell_type": "code",
   "execution_count": 4,
   "metadata": {},
   "outputs": [],
   "source": [
    "#3.\n",
    "def replace_strings(str):\n",
    "    new_repl = \"#\"\n",
    "    new_vowels = \"\"\n",
    "    try:\n",
    "        for i in str:\n",
    "            if i in {\"a\",\"e\",\"i\",\"o\",\"u\",\"A\",\"E\",\"I\",\"O\",\"U\"}:\n",
    "                new_vowels+= new_repl\n",
    "            else:\n",
    "                new_vowels+= i\n",
    "    except unboundlocalerror as un:\n",
    "          print(\"local_variable not found\")\n",
    "        \n",
    "    return new_vowels\n",
    "            "
   ]
  },
  {
   "cell_type": "code",
   "execution_count": 5,
   "metadata": {},
   "outputs": [
    {
     "data": {
      "text/plain": [
       "'th# ##d#rk'"
      ]
     },
     "execution_count": 5,
     "metadata": {},
     "output_type": "execute_result"
    }
   ],
   "source": [
    "replace_strings(\"the aadark\")"
   ]
  },
  {
   "cell_type": "code",
   "execution_count": 6,
   "metadata": {},
   "outputs": [],
   "source": [
    "def factorial(n):\n",
    "    factor = 1\n",
    "    try:\n",
    "        for i in range(1,n+1):\n",
    "            factor = factor*i\n",
    "    except exception as e:\n",
    "        print(\"finding the value\")\n",
    "    return factor\n",
    "    "
   ]
  },
  {
   "cell_type": "code",
   "execution_count": 7,
   "metadata": {},
   "outputs": [
    {
     "data": {
      "text/plain": [
       "120"
      ]
     },
     "execution_count": 7,
     "metadata": {},
     "output_type": "execute_result"
    }
   ],
   "source": [
    "factorial(5)"
   ]
  },
  {
   "cell_type": "code",
   "execution_count": null,
   "metadata": {},
   "outputs": [],
   "source": [
    "def hamming_distance(str1,str2):\n",
    "    i=0\n",
    "    count = 0\n",
    "    while (i < len(str1)):\n",
    "        if(str1[i] != str2[i]):\n",
    "            count+= 1\n",
    "    i+= 1\n",
    "    return count\n",
    "str1 = \"abcde\"\n",
    "str2 = \"aefde\"\n",
    "\n",
    "print(hamming_distance(str1,str2))\n",
    "    "
   ]
  },
  {
   "cell_type": "code",
   "execution_count": null,
   "metadata": {},
   "outputs": [],
   "source": [
    "hamming_distance(\"strong\",\"strung\")"
   ]
  },
  {
   "cell_type": "code",
   "execution_count": null,
   "metadata": {},
   "outputs": [],
   "source": []
  },
  {
   "cell_type": "code",
   "execution_count": null,
   "metadata": {},
   "outputs": [],
   "source": []
  }
 ],
 "metadata": {
  "kernelspec": {
   "display_name": "Python 3",
   "language": "python",
   "name": "python3"
  },
  "language_info": {
   "codemirror_mode": {
    "name": "ipython",
    "version": 3
   },
   "file_extension": ".py",
   "mimetype": "text/x-python",
   "name": "python",
   "nbconvert_exporter": "python",
   "pygments_lexer": "ipython3",
   "version": "3.8.3"
  }
 },
 "nbformat": 4,
 "nbformat_minor": 4
}
