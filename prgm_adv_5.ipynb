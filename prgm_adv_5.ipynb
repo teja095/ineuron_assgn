{
 "cells": [
  {
   "cell_type": "code",
   "execution_count": null,
   "metadata": {},
   "outputs": [],
   "source": [
    "\n",
    "    \n",
    "    "
   ]
  },
  {
   "cell_type": "code",
   "execution_count": null,
   "metadata": {},
   "outputs": [],
   "source": []
  },
  {
   "cell_type": "code",
   "execution_count": 1,
   "metadata": {},
   "outputs": [],
   "source": [
    "def majority_vote(A):\n",
    "    dict = {}\n",
    "    for i in A:\n",
    "        dict[i] = dict.get(i,0) + 1 \n",
    "    for key,value in dict.items():\n",
    "        if value > len(A)/2:\n",
    "            return key\n",
    "    return \"NONE\""
   ]
  },
  {
   "cell_type": "code",
   "execution_count": 2,
   "metadata": {},
   "outputs": [
    {
     "data": {
      "text/plain": [
       "'B'"
      ]
     },
     "execution_count": 2,
     "metadata": {},
     "output_type": "execute_result"
    }
   ],
   "source": [
    "majority_vote([\"A\",\"B\",\"B\"])"
   ]
  },
  {
   "cell_type": "code",
   "execution_count": 3,
   "metadata": {},
   "outputs": [
    {
     "name": "stdout",
     "output_type": "stream",
     "text": [
      "----- is a wednesday\n"
     ]
    }
   ],
   "source": [
    "def censor_string(str,lst):\n",
    "    word_lst = str.split()\n",
    "    new_char = \"\"\n",
    "    char = \"-\" * len(lst)\n",
    "    count = 0\n",
    "    index = 0;\n",
    "    for i in word_lst:\n",
    "        if i == lst:\n",
    "            word_lst[index] = char\n",
    "        index += 1\n",
    "    new_char = ' '.join(word_lst)\n",
    "    return new_char\n",
    "censor_str = \"today is a wednesday\"\n",
    "cen = \"today\"\n",
    "print(censor_string(censor_str,cen))"
   ]
  },
  {
   "cell_type": "code",
   "execution_count": 6,
   "metadata": {},
   "outputs": [
    {
     "name": "stdout",
     "output_type": "stream",
     "text": [
      "TRUE\n"
     ]
    }
   ],
   "source": [
    "def is_polydivisible(n):\n",
    "    N = n\n",
    "    digit = []\n",
    "    while n > 0:\n",
    "        digit.append(n%10)\n",
    "        n /= 10\n",
    "    digit.reverse()\n",
    "    f1 = True\n",
    "    n = digit[0]\n",
    "    for i in range(1,len(digit),1):\n",
    "        n = n * 10 + digit[i]\n",
    "        if (n% (i+1) != 0):\n",
    "            f2 = False\n",
    "            break\n",
    "    if (f1):\n",
    "        print(\"TRUE\")\n",
    "    else:\n",
    "        print(\"not polydivisible number\")\n",
    "if __name__ == \"__main__\":\n",
    "    n = 1232\n",
    "    is_polydivisible(n)\n"
   ]
  },
  {
   "cell_type": "code",
   "execution_count": 4,
   "metadata": {},
   "outputs": [],
   "source": [
    "def sum_primes(n):\n",
    "    sum= 0\n",
    "    fact=[]\n",
    "    for i in range(0,len(n)):\n",
    "        num=n[i]\n",
    "        if num>1:\n",
    "            fact=[]\n",
    "            for j in range(1,num+1):\n",
    "                if num%j==0:\n",
    "                    fact=fact+[j]\n",
    "        if fact==[1,num]:\n",
    "            sum=sum+num\n",
    "    return(sum)\n",
    "   "
   ]
  },
  {
   "cell_type": "code",
   "execution_count": 5,
   "metadata": {},
   "outputs": [
    {
     "data": {
      "text/plain": [
       "17"
      ]
     },
     "execution_count": 5,
     "metadata": {},
     "output_type": "execute_result"
    }
   ],
   "source": [
    "sum_primes([1, 2, 3, 4, 5, 6, 7, 8, 9, 10])"
   ]
  },
  {
   "cell_type": "code",
   "execution_count": null,
   "metadata": {},
   "outputs": [],
   "source": []
  }
 ],
 "metadata": {
  "kernelspec": {
   "display_name": "Python 3",
   "language": "python",
   "name": "python3"
  },
  "language_info": {
   "codemirror_mode": {
    "name": "ipython",
    "version": 3
   },
   "file_extension": ".py",
   "mimetype": "text/x-python",
   "name": "python",
   "nbconvert_exporter": "python",
   "pygments_lexer": "ipython3",
   "version": "3.8.3"
  }
 },
 "nbformat": 4,
 "nbformat_minor": 4
}
