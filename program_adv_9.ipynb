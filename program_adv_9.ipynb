{
 "cells": [
  {
   "cell_type": "code",
   "execution_count": null,
   "metadata": {},
   "outputs": [],
   "source": [
    "def pile_of_cubes(m):\n",
    "    if 1**3 == m:\n",
    "        return 1\n",
    "    else:\n",
    "        n = 2\n",
    "        volume = 1\n",
    "        while volume < m:\n",
    "            volume = volume + n**3\n",
    "            if volume ==m:\n",
    "                return n\n",
    "            else:\n",
    "                n = n+1\n",
    "                continue\n",
    "        return -1\n",
    "                "
   ]
  },
  {
   "cell_type": "code",
   "execution_count": null,
   "metadata": {},
   "outputs": [],
   "source": [
    "pile_of_cubes(1071225)"
   ]
  },
  {
   "cell_type": "code",
   "execution_count": null,
   "metadata": {},
   "outputs": [],
   "source": [
    "def find_fulcrum(arr,size):\n",
    "    r, l = 0,0\n",
    "    for i in range(1,size):\n",
    "        r +=arr[i]\n",
    "    i,j = 0,1\n",
    "    while j < size:\n",
    "        r -=arr[j]\n",
    "        l +=arr[i]\n",
    "        if l == r:\n",
    "            return arr[i+1]\n",
    "        j += 1\n",
    "        i += 1\n",
    "    return -1\n",
    "arr = [3,1,5,2,4,6,-1]     \n",
    "n = len(arr)\n",
    "print(find_fulcrum(arr,n))"
   ]
  },
  {
   "cell_type": "code",
   "execution_count": null,
   "metadata": {},
   "outputs": [],
   "source": [
    "\n",
    "from collections import Counter\n",
    "\n",
    "def sock_merchant(n,arr):\n",
    "    n = Counter(arr)\n",
    "    return sum(i//2 for i in n.values())\n",
    "n = input()\n",
    "arr = list(map(int,input().split()))\n",
    "print(sock_merchant(n,arr))"
   ]
  },
  {
   "cell_type": "code",
   "execution_count": null,
   "metadata": {},
   "outputs": [],
   "source": [
    "def negative_sum(str1):\n",
    "    sum = []\n",
    "    for i in range(len(str1)):\n",
    "        if str1[i]< 0:\n",
    "            sum.append(str1[i])\n",
    "    return sum\n",
    "            \n",
    "        \n",
    "    "
   ]
  },
  {
   "cell_type": "code",
   "execution_count": null,
   "metadata": {},
   "outputs": [],
   "source": [
    "negative_sum(\"-12 13%14&-11\")"
   ]
  },
  {
   "cell_type": "code",
   "execution_count": null,
   "metadata": {},
   "outputs": [],
   "source": []
  }
 ],
 "metadata": {
  "kernelspec": {
   "display_name": "Python 3",
   "language": "python",
   "name": "python3"
  },
  "language_info": {
   "codemirror_mode": {
    "name": "ipython",
    "version": 3
   },
   "file_extension": ".py",
   "mimetype": "text/x-python",
   "name": "python",
   "nbconvert_exporter": "python",
   "pygments_lexer": "ipython3",
   "version": "3.8.3"
  }
 },
 "nbformat": 4,
 "nbformat_minor": 4
}
