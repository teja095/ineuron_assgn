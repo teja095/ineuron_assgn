{
 "cells": [
  {
   "cell_type": "code",
   "execution_count": 3,
   "metadata": {},
   "outputs": [
    {
     "name": "stdout",
     "output_type": "stream",
     "text": [
      "2\n"
     ]
    }
   ],
   "source": [
    "def sqr(x):\n",
    "    if x == 0:\n",
    "        return 0\n",
    "    left,right = 1,x\n",
    "    while left <= right:\n",
    "        m = left + right // 2\n",
    "        if m*m == x:\n",
    "            return m\n",
    "        elif m*m < x:\n",
    "            left = m + 1\n",
    "        else:\n",
    "            right = m - 1\n",
    "    return right\n",
    "x = 8\n",
    "p = sqr(x)\n",
    "print(p)\n"
   ]
  },
  {
   "cell_type": "code",
   "execution_count": null,
   "metadata": {},
   "outputs": [],
   "source": []
  }
 ],
 "metadata": {
  "kernelspec": {
   "display_name": "Python 3",
   "language": "python",
   "name": "python3"
  },
  "language_info": {
   "codemirror_mode": {
    "name": "ipython",
    "version": 3
   },
   "file_extension": ".py",
   "mimetype": "text/x-python",
   "name": "python",
   "nbconvert_exporter": "python",
   "pygments_lexer": "ipython3",
   "version": "3.8.3"
  }
 },
 "nbformat": 4,
 "nbformat_minor": 4
}
