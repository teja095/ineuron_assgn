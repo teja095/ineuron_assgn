{
 "cells": [
  {
   "cell_type": "code",
   "execution_count": 1,
   "metadata": {},
   "outputs": [
    {
     "name": "stdout",
     "output_type": "stream",
     "text": [
      "reverse string norueni\n"
     ]
    }
   ],
   "source": [
    "my_string = \"ineuron\"\n",
    "str = \"\"\n",
    "for i in my_string:\n",
    "    str = i+str\n",
    "print(\"reverse string\",str)"
   ]
  },
  {
   "cell_type": "code",
   "execution_count": 6,
   "metadata": {},
   "outputs": [
    {
     "name": "stdout",
     "output_type": "stream",
     "text": [
      "the string is a palindrome\n"
     ]
    }
   ],
   "source": [
    "def my_string(str):\n",
    "    if (str == str[::-1]):\n",
    "        return \"the string is a palindrome\"\n",
    "    else:\n",
    "        return \"the string is not a palindrome\"\n",
    "\n",
    "str = \"radar\"\n",
    "s = my_string(str)\n",
    "print(s)\n",
    "    \n",
    "        "
   ]
  },
  {
   "cell_type": "code",
   "execution_count": 13,
   "metadata": {},
   "outputs": [
    {
     "name": "stdout",
     "output_type": "stream",
     "text": [
      "65\n"
     ]
    }
   ],
   "source": [
    "def largest(list):\n",
    "    max_sum = 0\n",
    "    for i in list:\n",
    "        if i > max_sum:\n",
    "            max_sum = i\n",
    "    return max_sum\n",
    "## driver code\n",
    "list = [4,5,3,7,2,23,45,34,65,34]\n",
    "s = largest(list)\n",
    "print(s)"
   ]
  },
  {
   "cell_type": "code",
   "execution_count": 18,
   "metadata": {},
   "outputs": [
    {
     "name": "stdout",
     "output_type": "stream",
     "text": [
      "{3: 2, 4: 2, 5: 1}\n"
     ]
    }
   ],
   "source": [
    "def occurrence(a):\n",
    "    emp_dic = {}\n",
    "    for i in a:\n",
    "        if i in emp_dic:\n",
    "            emp_dic[i] += 1\n",
    "        else:\n",
    "            emp_dic[i] = 1\n",
    "    return emp_dic\n",
    "a = [3,4,5,3,4]\n",
    "s = occurrence(a)\n",
    "print(s)\n",
    "\n",
    "\n",
    "        "
   ]
  },
  {
   "cell_type": "code",
   "execution_count": 9,
   "metadata": {},
   "outputs": [
    {
     "name": "stdout",
     "output_type": "stream",
     "text": [
      "('the second largest element', 535)\n"
     ]
    }
   ],
   "source": [
    "def second_largest(list):\n",
    "    list.sort()\n",
    "    return \"the second largest element\",list[-2]\n",
    "\n",
    "list = [12,34,45,534,345,567,535]\n",
    "s = second_largest(list)\n",
    "print(s)\n"
   ]
  },
  {
   "cell_type": "code",
   "execution_count": 13,
   "metadata": {},
   "outputs": [
    {
     "name": "stdout",
     "output_type": "stream",
     "text": [
      "[1, 2, 3, 4, 5]\n"
     ]
    }
   ],
   "source": [
    "def duplicates(lst):\n",
    "    x = []\n",
    "    for i in lst:\n",
    "        if i not in x:\n",
    "            x.append(i)\n",
    "            \n",
    "    return x\n",
    "\n",
    "lst = [1,1,2,3,4,5,4] \n",
    "s = duplicates(lst)\n",
    "print(s)\n",
    "            \n",
    "    "
   ]
  },
  {
   "cell_type": "code",
   "execution_count": 14,
   "metadata": {},
   "outputs": [
    {
     "name": "stdout",
     "output_type": "stream",
     "text": [
      "5040\n"
     ]
    }
   ],
   "source": [
    "def factorial(n):\n",
    "    if n == 1:\n",
    "        return 1\n",
    "    else:\n",
    "        return n * factorial(n-1)\n",
    "n = 7\n",
    "s = factorial(n)\n",
    "print(s)"
   ]
  },
  {
   "cell_type": "code",
   "execution_count": 2,
   "metadata": {},
   "outputs": [
    {
     "name": "stdout",
     "output_type": "stream",
     "text": [
      "enter the number: 31\n",
      "31 it is prime numnber\n"
     ]
    }
   ],
   "source": [
    "flag = False\n",
    "\n",
    "num = int(input(\"enter the number: \"))\n",
    "\n",
    "if num == 1:\n",
    "    print(num,\"not an prime number\")\n",
    "    \n",
    "for i in range(2,num):\n",
    "    if (num % i) == 0:\n",
    "        flag = True\n",
    "        break\n",
    "if flag:\n",
    "    print(num,\"is not a prime number\")\n",
    "else:\n",
    "    print(num,\"it is prime numnber\")"
   ]
  },
  {
   "cell_type": "code",
   "execution_count": 7,
   "metadata": {},
   "outputs": [
    {
     "name": "stdout",
     "output_type": "stream",
     "text": [
      "[2, 4, 13, 23, 32, 34, 45, 47, 53, 65]\n"
     ]
    }
   ],
   "source": [
    "lst = [23,13,2,4,45,32,34,65,53,47]\n",
    "lst.sort()\n",
    "print(lst)"
   ]
  },
  {
   "cell_type": "code",
   "execution_count": 14,
   "metadata": {},
   "outputs": [
    {
     "name": "stdout",
     "output_type": "stream",
     "text": [
      "the total sum :  6\n"
     ]
    }
   ],
   "source": [
    "def sum_lst(a):\n",
    "    total_sum = 0\n",
    "    for i in range(0,len(a)):\n",
    "        total_sum = total_sum + a[i]\n",
    "    return total_sum\n",
    "a = [1,2,3]\n",
    "r = sum_lst(a)\n",
    "print(\"the total sum : \",r)\n",
    "    "
   ]
  },
  {
   "cell_type": "code",
   "execution_count": 16,
   "metadata": {},
   "outputs": [
    {
     "name": "stdout",
     "output_type": "stream",
     "text": [
      "[1, 4]\n"
     ]
    }
   ],
   "source": [
    "def common_lst(lst1,lst2):\n",
    "    common = []\n",
    "    for i in lst1:\n",
    "        for j in lst2:\n",
    "            if i == j:\n",
    "                common.append(i)\n",
    "    return common\n",
    "\n",
    "lst1 = [1,2,3,4]\n",
    "lst2 = [1,4,5]\n",
    "\n",
    "s = common_lst(lst1,lst2)\n",
    "print(s)"
   ]
  },
  {
   "cell_type": "code",
   "execution_count": 20,
   "metadata": {},
   "outputs": [
    {
     "name": "stdout",
     "output_type": "stream",
     "text": [
      "both the strings are anagram\n"
     ]
    }
   ],
   "source": [
    "### to check whether the given string is an anagram of another string\n",
    "\n",
    "str1 = \"grab\"\n",
    "str2 = \"brag\"\n",
    "\n",
    "if (len(str1)!= len(str2)):\n",
    "    print(\"the strings are not anagram\")\n",
    "else:\n",
    "    str1 = str1.lower()\n",
    "    str2 = str2.lower()\n",
    "    \n",
    "    str1 = ''.join(sorted(str1))\n",
    "    str2 = ''.join(sorted(str2))\n",
    "\n",
    "if str1 == str2:\n",
    "    print('both the strings are anagram')\n",
    "\n",
    "else:\n",
    "    print('the strings are not anagram')\n",
    "    \n"
   ]
  },
  {
   "cell_type": "code",
   "execution_count": 2,
   "metadata": {},
   "outputs": [
    {
     "name": "stdout",
     "output_type": "stream",
     "text": [
      "xyz\n",
      "xzy\n",
      "yxz\n",
      "yzx\n",
      "zxy\n",
      "zyx\n"
     ]
    }
   ],
   "source": [
    "### to check all permutations of given string\n",
    "import itertools\n",
    "string = 'xyz'\n",
    "permutation_list = list(itertools.permutations(string))\n",
    "for tup in permutation_list:\n",
    "    print(\"\".join(tup))"
   ]
  },
  {
   "cell_type": "code",
   "execution_count": 23,
   "metadata": {},
   "outputs": [
    {
     "name": "stdout",
     "output_type": "stream",
     "text": [
      "0 1 1 2 3 5 8 13 21 34 "
     ]
    }
   ],
   "source": [
    "def fibseries(n):\n",
    "    if n <= 1:\n",
    "        return n\n",
    "    else:\n",
    "        return (fibseries(n-1) + fibseries(n-2))\n",
    "\n",
    "num = 10\n",
    "for i in range(num):\n",
    "     print(fibseries(i),end=\" \")"
   ]
  },
  {
   "cell_type": "code",
   "execution_count": 36,
   "metadata": {},
   "outputs": [
    {
     "name": "stdout",
     "output_type": "stream",
     "text": [
      "3\n"
     ]
    }
   ],
   "source": [
    "def cal_med(nums):\n",
    "    nums.sort()\n",
    "    n = len(nums)\n",
    "    m = n//2\n",
    "    if n % 2 == 0:\n",
    "        return(nums[m-1] + nums[m])/2\n",
    "    else:\n",
    "        return nums[m]\n",
    "\n",
    "nums = [1,2,3,4,5,6]\n",
    "r = cal_med(nums)\n",
    "print(r)"
   ]
  },
  {
   "cell_type": "code",
   "execution_count": 4,
   "metadata": {},
   "outputs": [
    {
     "name": "stdout",
     "output_type": "stream",
     "text": [
      "True\n"
     ]
    }
   ],
   "source": [
    "def is_sorted(lst, key=lambda x: x):\n",
    "    for i, el in enumerate(lst[1:]):\n",
    "        if key(el) < key(lst[i]): # i is the index of the previous element\n",
    "            return False\n",
    "    return True\n",
    "\n",
    "lst = [3,4,5,6]\n",
    "r = is_sorted(lst)\n",
    "print(r)"
   ]
  },
  {
   "cell_type": "code",
   "execution_count": 9,
   "metadata": {},
   "outputs": [
    {
     "name": "stdout",
     "output_type": "stream",
     "text": [
      "[90, 11, 58, 31, 66, 28, 54]\n"
     ]
    }
   ],
   "source": [
    "def intersection(lst1,lst2):\n",
    "    list3 = []\n",
    "    for value in lst1:\n",
    "        if value in lst2:\n",
    "             list3.append(value)\n",
    "    return list3\n",
    "\n",
    "lst1 = [40, 90, 11, 58, 31, 66, 28, 54, 79]  \n",
    "lst2 =  [58, 90, 54, 31, 45, 11, 66, 28, 26]\n",
    "\n",
    "print(intersection(lst1,lst2))"
   ]
  },
  {
   "cell_type": "code",
   "execution_count": 10,
   "metadata": {},
   "outputs": [
    {
     "name": "stdout",
     "output_type": "stream",
     "text": [
      "8\n"
     ]
    }
   ],
   "source": [
    "### to find the maximum subarray sum in given list\n",
    "\n",
    "class Solution(object):\n",
    "   def maxSubArray(self, nums):\n",
    "      dp = [0 for i in range(len(nums))]\n",
    "      dp[0] = nums[0]\n",
    "      for i in range(1,len(nums)):\n",
    "         dp[i] = max(dp[i-1]+nums[i],nums[i])\n",
    "      #print(dp)\n",
    "      return max(dp)\n",
    "nums = [-2,1,-3,7,-2,2,1,-5,4]\n",
    "ob1 = Solution()\n",
    "print(ob1.maxSubArray(nums))"
   ]
  },
  {
   "cell_type": "code",
   "execution_count": 24,
   "metadata": {},
   "outputs": [
    {
     "name": "stdout",
     "output_type": "stream",
     "text": [
      "Prprt\n"
     ]
    }
   ],
   "source": [
    "def remove(vowels,str):\n",
    "    result = \"\"\n",
    "    for i in str:\n",
    "        if i not in vowels:\n",
    "            result = result + i\n",
    "    return result\n",
    "vowels = ['a','e','i','o','u','A','E','I','O','U']\n",
    "str = 'Prepartou'\n",
    "print(remove(vowels,str))\n",
    "    "
   ]
  },
  {
   "cell_type": "code",
   "execution_count": 26,
   "metadata": {},
   "outputs": [
    {
     "name": "stdout",
     "output_type": "stream",
     "text": [
      "Home welcome\n"
     ]
    }
   ],
   "source": [
    "### reverse the string in word\n",
    "### tc --> O(n)\n",
    "### sc ---> O(1) as we are not storing any value \n",
    "s = \"welcome Home\"\n",
    "s = s.split(\" \")\n",
    "left = 0\n",
    "right = len(s) - 1\n",
    "while left <= right:\n",
    "    s[left],s[right] = s[right],s[left]\n",
    "    left += 1\n",
    "    right -= 1\n",
    "res = \" \".join(s)\n",
    "print(res)\n"
   ]
  },
  {
   "cell_type": "code",
   "execution_count": 27,
   "metadata": {},
   "outputs": [
    {
     "name": "stdout",
     "output_type": "stream",
     "text": [
      "both the strings are anagram\n"
     ]
    }
   ],
   "source": [
    "### to check if two strings are anagram to each other\n",
    "\n",
    "\n",
    "str1 = \"grab\"\n",
    "str2 = \"brag\"\n",
    "\n",
    "if (len(str1)!= len(str2)):\n",
    "    print(\"the strings are not anagram\")\n",
    "else:\n",
    "    str1 = str1.lower()\n",
    "    str2 = str2.lower()\n",
    "    \n",
    "    str1 = ''.join(sorted(str1))\n",
    "    str2 = ''.join(sorted(str2))\n",
    "\n",
    "if str1 == str2:\n",
    "    print('both the strings are anagram')\n",
    "\n",
    "else:\n",
    "    print('the strings are not anagram')\n",
    "    \n",
    "\n",
    "\n"
   ]
  },
  {
   "cell_type": "code",
   "execution_count": 29,
   "metadata": {},
   "outputs": [
    {
     "name": "stdout",
     "output_type": "stream",
     "text": [
      "h\n"
     ]
    }
   ],
   "source": [
    "### to check first non-repeating character in a string\n",
    "def repeatingstr(mystr):\n",
    "    char_order = []\n",
    "    counts = {}\n",
    "    \n",
    "    for c in mystr:\n",
    "        if c in counts:\n",
    "            counts[c] += 1\n",
    "        else:\n",
    "            counts[c] = 1\n",
    "            char_order.append(c)\n",
    "    for c in char_order:\n",
    "        if counts[c] == 1:\n",
    "            return c\n",
    "    return None\n",
    "\n",
    "print(repeatingstr('thisisit'))\n",
    "        \n",
    "    \n",
    "    "
   ]
  },
  {
   "cell_type": "code",
   "execution_count": 30,
   "metadata": {},
   "outputs": [
    {
     "name": "stdout",
     "output_type": "stream",
     "text": [
      "Enter the number for calculating the prime factors :\n",
      "210\n",
      "2\n",
      "3\n",
      "5\n",
      "7\n"
     ]
    }
   ],
   "source": [
    "### to find prime factors of a given number\n",
    "n = int(input(\"Enter the number for calculating the prime factors :\\n\"))\n",
    "for i in range(2,n + 1):\n",
    "    if n % i == 0:\n",
    "        count = 1\n",
    "        for j in range(2,(i//2 + 1)):\n",
    "            if(i % j == 0):\n",
    "                count = 0\n",
    "                break\n",
    "        if(count == 1):\n",
    "            print(i)"
   ]
  },
  {
   "cell_type": "code",
   "execution_count": 31,
   "metadata": {},
   "outputs": [
    {
     "name": "stdout",
     "output_type": "stream",
     "text": [
      "Enter a number: 8\n",
      "8 is a power of two.\n"
     ]
    }
   ],
   "source": [
    "### to check if a given number is power of two or not\n",
    "def is_power_of_two(n):\n",
    "    \"\"\"Return True if n is a power of two.\"\"\"\n",
    "    if n <= 0:\n",
    "        return False\n",
    "    else:\n",
    "        return n & (n - 1) == 0\n",
    " \n",
    " \n",
    "n = int(input('Enter a number: '))\n",
    " \n",
    "if is_power_of_two(n):\n",
    "    print('{} is a power of two.'.format(n))\n",
    "else:\n",
    "    print('{} is not a power of two.'.format(n))"
   ]
  },
  {
   "cell_type": "code",
   "execution_count": 5,
   "metadata": {},
   "outputs": [
    {
     "name": "stdout",
     "output_type": "stream",
     "text": [
      "[1, 2, 3, 4, 5, 6, 6, 7, 8, 9]\n"
     ]
    }
   ],
   "source": [
    "### to merge two sorted lists in a single list\n",
    "def sortedlist(sort1,sort2):\n",
    "    size_1 = len(sort1)\n",
    "    size_2 = len(sort2)\n",
    "    res = []\n",
    "    i,j = 0,0\n",
    "    while i < size_1 and j < size_2:\n",
    "        if sort1[i] < sort2[j]:\n",
    "            res.append(sort1[i])\n",
    "            i += 1\n",
    "        else:\n",
    "            res.append(sort2[j])\n",
    "            j += 1\n",
    "    return  res + sort1[i:] + sort2[j:]\n",
    "\n",
    "### driver code\n",
    "sort1 = [1,2,3,5,6]\n",
    "sort2 = [4,6,7,8,9]\n",
    "r = sortedlist(sort1,sort2)\n",
    "print(r)"
   ]
  },
  {
   "cell_type": "code",
   "execution_count": 9,
   "metadata": {},
   "outputs": [
    {
     "name": "stdout",
     "output_type": "stream",
     "text": [
      "[6, 8]\n"
     ]
    }
   ],
   "source": [
    "### to find the mode of the list\n",
    "def mode(ls):\n",
    "    ### create an empty dictionary to count each value\n",
    "    counts = {}\n",
    "    \n",
    "    #### iterating it through the for loop\n",
    "    for i in ls:\n",
    "        if i in counts:\n",
    "            counts[i] += 1\n",
    "        else:\n",
    "            counts[i] = 1\n",
    "    return [key for key in counts.keys() if counts[key] == max(counts.values())]\n",
    "            \n",
    "            \n",
    "            \n",
    "## driver code\n",
    "ls = [1,2,3,3,4,5,6,6,6,7,8,8,8]\n",
    "r = mode(ls)\n",
    "print(r)            \n",
    "            "
   ]
  },
  {
   "cell_type": "code",
   "execution_count": 10,
   "metadata": {},
   "outputs": [
    {
     "name": "stdout",
     "output_type": "stream",
     "text": [
      "The gcd of 60 and 48 is : 12\n"
     ]
    }
   ],
   "source": [
    "## to find gcd of two numbers\n",
    "def hcf(a, b):\n",
    "    if(b == 0):\n",
    "        return a\n",
    "    else:\n",
    "        return hcf(b, a % b)\n",
    " \n",
    "a = 60\n",
    "b = 48\n",
    " \n",
    "# prints 12\n",
    "print(\"The gcd of 60 and 48 is : \", end=\"\")\n",
    "print(hcf(60, 48))"
   ]
  },
  {
   "cell_type": "code",
   "execution_count": 12,
   "metadata": {},
   "outputs": [
    {
     "name": "stdout",
     "output_type": "stream",
     "text": [
      "1.8708286933869707\n"
     ]
    }
   ],
   "source": [
    "## find the square root\n",
    "import math\n",
    "\n",
    "print(math.sqrt(3.5))"
   ]
  },
  {
   "cell_type": "code",
   "execution_count": 19,
   "metadata": {},
   "outputs": [
    {
     "name": "stdout",
     "output_type": "stream",
     "text": [
      "yes\n"
     ]
    }
   ],
   "source": [
    "### check if a string is a palindrome or nt\n",
    "\n",
    "def ispalindrome(s):\n",
    "    return s == s[::-1]\n",
    "\n",
    "   \n",
    "s = 'abba'\n",
    "\n",
    "if s:\n",
    "    print('yes')\n",
    "else:\n",
    "    print('No')\n"
   ]
  },
  {
   "cell_type": "code",
   "execution_count": 22,
   "metadata": {},
   "outputs": [
    {
     "name": "stdout",
     "output_type": "stream",
     "text": [
      "2\n"
     ]
    }
   ],
   "source": [
    "### to find minimum element in a rotated sorted list\n",
    "def minrotatedarray(x,l,r):\n",
    "    if l < r:\n",
    "        if x[l] < x[r]:\n",
    "            return x[l]\n",
    "        ### find the mid of it\n",
    "        mid = l + (r-1)//2\n",
    "        if x[mid] > x[r]:\n",
    "            return minrotatedarray(x,mid+1,r)\n",
    "        else:\n",
    "            return minrotatedarray(x,l,mid)\n",
    "    return x[l]\n",
    "x = [2,2,3,4,1,6,7]\n",
    "n = 4\n",
    "l = 0\n",
    "r = n - 1\n",
    "s = minrotatedarray(x,l,r)\n",
    "print(s)"
   ]
  },
  {
   "cell_type": "code",
   "execution_count": null,
   "metadata": {},
   "outputs": [],
   "source": []
  }
 ],
 "metadata": {
  "kernelspec": {
   "display_name": "Python 3",
   "language": "python",
   "name": "python3"
  },
  "language_info": {
   "codemirror_mode": {
    "name": "ipython",
    "version": 3
   },
   "file_extension": ".py",
   "mimetype": "text/x-python",
   "name": "python",
   "nbconvert_exporter": "python",
   "pygments_lexer": "ipython3",
   "version": "3.8.3"
  }
 },
 "nbformat": 4,
 "nbformat_minor": 4
}
