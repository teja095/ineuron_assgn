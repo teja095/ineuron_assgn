{
 "cells": [
  {
   "cell_type": "markdown",
   "metadata": {},
   "source": [
    "## Naive Approach"
   ]
  },
  {
   "cell_type": "markdown",
   "metadata": {},
   "source": [
    "simple probabilistic classification algorithm based on Bayes' theorem. It assumes that the features are conditionally independent of each other given the class label."
   ]
  },
  {
   "cell_type": "code",
   "execution_count": null,
   "metadata": {},
   "outputs": [],
   "source": [
    "it assumes that the presence or absence of a particular feature does not affect the presence or absence of any other feature."
   ]
  },
  {
   "cell_type": "markdown",
   "metadata": {},
   "source": [
    "handles missing values in the data by ignoring the instances with missing values during the probability estimation process"
   ]
  },
  {
   "cell_type": "code",
   "execution_count": null,
   "metadata": {},
   "outputs": [],
   "source": [
    "Adv:- The Naive Approach is simple to understand and implement. It has a straightforward probabilistic framework based on Bayes' theorem and the assumption of feature independence.\n",
    "The Naive Approach is computationally efficient and can handle large datasets with high-dimensional feature spaces. It requires minimal training time and memory resources\n",
    "\n",
    "Disadv:- The Naive Approach assumes that the features are conditionally independent given the class label. \n",
    "         This assumption may not hold true in real-world scenarios, leading to suboptimal performance."
   ]
  },
  {
   "cell_type": "markdown",
   "metadata": {},
   "source": [
    "No, the Naive Approach, also known as the Naive Bayes classifier, is not suitable for regression problems. The Naive Approach is specifically designed for classification tasks, where the goal is to assign instances to predefined classes or categories."
   ]
  },
  {
   "cell_type": "code",
   "execution_count": null,
   "metadata": {},
   "outputs": [],
   "source": [
    "Handling catgorical features with label encoding and one-hot encoding"
   ]
  },
  {
   "cell_type": "markdown",
   "metadata": {},
   "source": [
    "Laplace smoothing, also known as add-one smoothing or additive smoothing, is a technique used in the Naive Approach (Naive Bayes classifier) to address the issue of zero probabilities for unseen categories or features in the training data. It is used to prevent the probabilities from becoming zero and to ensure a more robust estimation of probabilities. \n"
   ]
  },
  {
   "cell_type": "code",
   "execution_count": null,
   "metadata": {},
   "outputs": [],
   "source": [
    "Naive approach can be used for spam detection for mail  to check the probability whether the spam mail or not "
   ]
  },
  {
   "cell_type": "markdown",
   "metadata": {},
   "source": [
    "### KNN\n"
   ]
  },
  {
   "cell_type": "code",
   "execution_count": null,
   "metadata": {},
   "outputs": [],
   "source": [
    "The K-Nearest Neighbors (KNN) algorithm is a supervised learning algorithm used for both classification and regression tasks. \n",
    "It is a non-parametric algorithm that makes predictions based on the similarity between the input instance \n",
    "and its K nearest neighbors in the training data.\n",
    "\n"
   ]
  },
  {
   "cell_type": "markdown",
   "metadata": {},
   "source": [
    "Training Phase:\n",
    " During the training phase, the algorithm simply stores the labeled instances from the training dataset, along with their corresponding class labels or target values.\n",
    "\n",
    "Prediction Phase:\n",
    " When a new instance (unlabeled) is given, the KNN algorithm calculates the similarity between this instance and all instances in the training data.\n",
    "The similarity is typically measured using distance metrics such as Euclidean distance or Manhattan distance. Other distance metrics can be used based on the nature of the problem.\n",
    "The KNN algorithm then selects the K nearest neighbors to the new instance based on the calculated similarity scores\n"
   ]
  },
  {
   "cell_type": "code",
   "execution_count": null,
   "metadata": {},
   "outputs": [],
   "source": [
    "Choosing the value of K, the number of neighbors, in the K-Nearest Neighbors (KNN) algorithm is an important consideration that can impact the performance of the model. The optimal value of K depends on the dataset and the specific problem at hand. Here are a few approaches to help choose the value of K:\n",
    "\n",
    "1. Rule of Thumb:\n",
    "   - A commonly used rule of thumb is to take the square root of the total number of instances in the training data as the value of K.\n",
    "   \n",
    "2. Cross-Validation:\n",
    "   - Cross-validation is a robust technique for evaluating the performance of a model on unseen data.\n"
   ]
  },
  {
   "cell_type": "markdown",
   "metadata": {},
   "source": [
    "Advantages:\n",
    "\n",
    "1. Simplicity and Intuition: The KNN algorithm is easy to understand and implement. Its simplicity makes it a good starting point for many classification and regression problems.\n",
    "\n",
    "2. No Training Phase: KNN is a non-parametric algorithm, which means it does not require a training phase. The model is constructed based on the available labeled instances, making it flexible and adaptable to new data.\n",
    "\n",
    "3. Non-Linear Decision Boundaries: KNN can capture complex decision boundaries, including non-linear ones, by considering the nearest neighbors in the feature space.\n",
    "\n",
    "4. Robust to Outliers: KNN is relatively robust to outliers since it considers multiple neighbors during prediction. Outliers have less influence on the final decision compared to models based on local regions.\n",
    "\n",
    "Disadvantages:\n",
    "\n",
    "1. Computational Complexity: KNN can be computationally expensive, especially with large datasets, as it requires calculating the distance between the query instance and all training instances for each prediction.\n",
    "\n",
    "2. Sensitivity to Feature Scaling: KNN is sensitive to the scale and units of the input features. Features with larger scales can dominate the distance calculations, leading to biased results. Feature scaling, such as normalization or standardization, is often necessary.\n"
   ]
  },
  {
   "cell_type": "code",
   "execution_count": null,
   "metadata": {},
   "outputs": [],
   "source": [
    "The choice of distance metric in the K-Nearest Neighbors (KNN) algorithm significantly affects its performance.\n",
    "The distance metric determines how the similarity or dissimilarity between instances is measured, \n",
    "which in turn affects the neighbor selection and the final predictions. Here are some common distance metrics used in KNN \n",
    "and their impact on performance:\n",
    "\n"
   ]
  },
  {
   "cell_type": "markdown",
   "metadata": {},
   "source": [
    "K-Nearest Neighbors (KNN) is a simple yet effective algorithm for classification tasks. However, it may face challenges when dealing with imbalanced datasets where the number of instances in one class significantly outweighs the number of instances in another class"
   ]
  },
  {
   "cell_type": "code",
   "execution_count": null,
   "metadata": {},
   "outputs": [],
   "source": [
    "Yes, K-Nearest Neighbors (KNN) can handle categorical features, but they need to be appropriately encoded to numerical values \n",
    "before applying the algorithm. two methods are one-hot encoding and label encoding"
   ]
  },
  {
   "cell_type": "markdown",
   "metadata": {},
   "source": [
    "For instance, if we have a new flower instance with a petal length of 4.5 and a petal width of 1.8, and we choose K=3, the algorithm identifies the 3 nearest neighbors from the training data. If two of the nearest neighbors belong to class A (e.g., setosa) and one belongs to class B (e.g., versicolor), the KNN algorithm predicts class A (setosa) for the new flower instance."
   ]
  },
  {
   "cell_type": "markdown",
   "metadata": {},
   "source": [
    "### Clusterng"
   ]
  },
  {
   "cell_type": "code",
   "execution_count": null,
   "metadata": {},
   "outputs": [],
   "source": [
    "Clustering is an unsupervised machine learning technique that aims to group similar instances together based\n",
    "on their inherent patterns or similarities. The goal is to identify distinct clusters within a dataset without \n",
    "any prior knowledge of class labels or target variables"
   ]
  },
  {
   "cell_type": "markdown",
   "metadata": {},
   "source": [
    "Hierarchical clustering is a bottom-up or top-down approach that builds a hierarchy of clusters.\n",
    "It does not require specifying the number of clusters in advance and produces a dendrogram to visualize the clustering structure.\n",
    "\n",
    "K-means clustering is a partition-based algorithm that assigns instances to a predefined number of clusters.\n",
    "It aims to minimize the within-cluster sum of squared distances (WCSS) and assigns instances to the nearest cluster centroid.\n",
    "\n"
   ]
  },
  {
   "cell_type": "code",
   "execution_count": null,
   "metadata": {},
   "outputs": [],
   "source": [
    "Determining the optimal number of clusters in k-means clustering is an important task as it directly impacts the quality of the clustering results. Here are a few techniques commonly used to determine the optimal number of clusters:\n",
    "\n",
    "1. Elbow Method:\n",
    "   The Elbow Method involves plotting the within-cluster sum of squared distances (WCSS) against the number of clusters (k).\n",
    "   WCSS measures the compactness of clusters, and a lower WCSS indicates better clustering.\n",
    "   The plot resembles an arm, and the \"elbow\" point represents the optimal number of clusters.\n",
    "   The elbow point is the value of k where the decrease in WCSS begins to level off significantly.\n"
   ]
  },
  {
   "cell_type": "markdown",
   "metadata": {},
   "source": [
    "Elbow Method\n",
    "\n",
    "Wcss\n",
    "\n",
    "silhoutte"
   ]
  },
  {
   "cell_type": "code",
   "execution_count": null,
   "metadata": {},
   "outputs": [],
   "source": [
    "One-Hot Encoding\n",
    "K-Means\n",
    "Label encoding"
   ]
  },
  {
   "cell_type": "markdown",
   "metadata": {},
   "source": [
    "Adv:- Hierarchical clustering is a bottom-up or top-down approach that builds a hierarchy of clusters.\n",
    "- It does not require specifying the number of clusters in advance and produces a dendrogram to visualize the clustering structure.\n",
    "- Hierarchical clustering can be agglomerative (bottom-up) or divisive (top-down).\n",
    "\n",
    "Disadv:- Not suitable when the number of clusters is known or can be estimated, and computational efficiency is a consideration.\n",
    "\n",
    "\n",
    " \n"
   ]
  },
  {
   "cell_type": "code",
   "execution_count": null,
   "metadata": {},
   "outputs": [],
   "source": [
    "Silhouette analysis measures the compactness and separation of clusters.\n",
    "   - It calculates the average silhouette coefficient for each instance, which represents how well it fits within its cluster compared to other clusters.\n",
    "   - The silhouette coefficient ranges from -1 to 1, where values close to 1 indicate well-clustered instances, values close to 0 indicate overlapping instances, and negative values indicate potential misclassifications.\n",
    "   - The optimal number of clusters corresponds to the highest average silhouette coefficient\n"
   ]
  },
  {
   "cell_type": "markdown",
   "metadata": {},
   "source": [
    "Clustering has many other applications, including recommender systems, social network analysis, data compression, and pattern recognition. Its versatility and ability to reveal hidden patterns in data make it a valuable tool in various domains where understanding data structure and finding meaningful groupings are important."
   ]
  },
  {
   "cell_type": "markdown",
   "metadata": {},
   "source": [
    "### Anomaly Detection"
   ]
  },
  {
   "cell_type": "code",
   "execution_count": null,
   "metadata": {},
   "outputs": [],
   "source": [
    "Anomaly detection, also known as outlier detection, is the task of identifying patterns or instances that \n",
    "deviate significantly from the norm or expected behavior within a dataset. Anomalies are data points that differ \n",
    "from the majority of the data and may indicate unusual or suspicious behavior"
   ]
  },
  {
   "cell_type": "markdown",
   "metadata": {},
   "source": [
    "Supervised Anomaly Detection:\n",
    "   - In supervised anomaly detection, the training dataset contains labeled instances, where each instance is labeled as either normal or anomalous.\n",
    "   - The algorithm learns from these labeled examples to classify new, unseen instances as normal or anomalous.\n",
    "   - Supervised anomaly detection typically involves the use of classification algorithms that are trained on labeled data.\n",
    "   - The algorithm learns the patterns and characteristics of normal instances and uses this knowledge to classify new instances.\n",
    "   - Supervised anomaly detection requires a sufficient amount of labeled data, including both normal and anomalous instances, for training.\n",
    "\n",
    "2. Unsupervised Anomaly Detection:\n",
    "   - In unsupervised anomaly detection, the training dataset does not contain any labeled instances. The algorithm learns the normal behavior or patterns solely from the unlabeled data.\n",
    "   - The goal is to identify instances that deviate significantly from the learned normal behavior, considering them as anomalies.\n"
   ]
  },
  {
   "cell_type": "code",
   "execution_count": null,
   "metadata": {},
   "outputs": [],
   "source": [
    "Statistical Methods:\n",
    "   - Z-Score: Calculates the standard deviation of the data and identifies instances that fall outside a specified number of standard deviations from the mean.\n",
    "   - Grubbs' Test: Detects outliers based on the maximum deviation from the mean.\n",
    "   - Dixon's Q Test: Identifies outliers based on the difference between the extreme value and the next closest value.\n",
    "   - Box Plot: Visualizes the distribution of the data and identifies instances falling outside the whiskers.\n",
    "\n",
    "2. Machine Learning Methods:\n",
    "   - Isolation Forest: Builds an ensemble of isolation trees to isolate instances that are easily separable from the majority of the data.\n",
    "   - One-Class SVM: Constructs a boundary around the normal instances and identifies instances outside this boundary as anomalies.\n",
    "   - Local Outlier Factor (LOF): Measures the local density deviation of an instance compared to its neighbors and identifies instances with significantly lower density as anomalies\n"
   ]
  },
  {
   "cell_type": "markdown",
   "metadata": {},
   "source": [
    "One-Class SVM: Constructs a boundary around the normal instances and identifies instances outside this boundary as anomalies."
   ]
  },
  {
   "cell_type": "code",
   "execution_count": null,
   "metadata": {},
   "outputs": [],
   "source": [
    "Choosing the threshold for detecting anomalies depends on the desired trade-off between false positives \n",
    "and false negatives, which can vary based on the specific application and requirements. "
   ]
  },
  {
   "cell_type": "markdown",
   "metadata": {},
   "source": [
    "Imbalanced Data:\n",
    "   - Challenge: Anomalies are often rare compared to normal instances, leading to imbalanced datasets with a significant class imbalance.\n",
    "   - Solution: Techniques such as oversampling, undersampling, or synthetic data generation can be used to balance the dataset. Additionally, adjusting the threshold or using anomaly detection algorithms specifically designed for imbalanced data, like anomaly detection with imbalanced learning (ADIL), can help handle imbalanced datasets.\n"
   ]
  },
  {
   "cell_type": "code",
   "execution_count": null,
   "metadata": {},
   "outputs": [],
   "source": [
    "Cybersecurity:\n",
    "   - Anomaly detection plays a crucial role in detecting cyber threats, such as network intrusions, malware attacks, or unauthorized access attempts.\n",
    "   - It helps in identifying suspicious patterns or anomalies in network traffic, system logs, or user behavior.\n"
   ]
  },
  {
   "cell_type": "markdown",
   "metadata": {},
   "source": [
    "### Dimension Reduction"
   ]
  },
  {
   "cell_type": "code",
   "execution_count": null,
   "metadata": {},
   "outputs": [],
   "source": [
    "Dimensionality reduction is a technique used in machine learning to reduce the number of input features\n",
    "or variables while preserving the most relevant information. It aims to simplify the data representation,\n",
    "remove noise or irrelevant features, and improve computational efficiency. "
   ]
  },
  {
   "cell_type": "markdown",
   "metadata": {},
   "source": [
    "PCA can help address multicollinearity in the data by transforming the original correlated variables into a set of uncorrelated variables called principal components. Here's how PCA handles multicollinearity:\n",
    "\n"
   ]
  },
  {
   "cell_type": "code",
   "execution_count": null,
   "metadata": {},
   "outputs": [],
   "source": [
    "Besides PCA, there are several other dimensionality reduction techniques that can be used to extract relevant information from high-dimensional data. Here are a few examples:\n",
    "\n",
    "1. Linear Discriminant Analysis (LDA):\n",
    "   - LDA is a supervised dimensionality reduction technique that aims to find a lower-dimensional representation of the data that maximizes the separation between different classes or groups.\n",
    "   - It computes the linear combinations of the original features that maximize the between-class scatter while minimizing the within-class scatter.\n",
    "   - LDA is commonly used in classification tasks where the goal is to maximize the separability of different classes.\n",
    "\n",
    "2. t-SNE (t-Distributed Stochastic Neighbor Embedding):\n",
    "   - t-SNE is a non-linear dimensionality reduction technique that is particularly effective in visualizing high-dimensional data in a lower-dimensional space.\n"
   ]
  },
  {
   "cell_type": "markdown",
   "metadata": {},
   "source": [
    ", PCA can be applied to the resulting binary features to reduce dimensionality.\n",
    "\n"
   ]
  },
  {
   "cell_type": "markdown",
   "metadata": {},
   "source": [
    "### Feature Selection"
   ]
  },
  {
   "cell_type": "code",
   "execution_count": null,
   "metadata": {},
   "outputs": [],
   "source": [
    "Feature selection is the process of selecting a subset of relevant features from a larger set of available features in a \n",
    "machine learning dataset. The goal of feature selection is to improve model performance, reduce complexity, \n",
    "enhance interpretability, and mitigate the risk of overfitting"
   ]
  },
  {
   "cell_type": "markdown",
   "metadata": {},
   "source": [
    "\n",
    "1. Filter Methods:\n",
    "   - Filter methods are based on statistical measures and evaluate the relevance of features independently of any specific machine learning algorithm.\n",
    "   - They rank or score features based on certain statistical metrics, such as correlation, mutual information, or statistical tests like chi-square or ANOVA.\n",
    "   - Features are selected or ranked based on their individual scores, and a threshold is set to determine the final subset of features.\n",
    "   - Filter methods are computationally efficient and can be applied as a preprocessing step before applying any machine learning algorithm.\n",
    "   - However, they do not consider the interaction or dependency between features or the impact of feature subsets on the performance of the specific learning algorithm.\n",
    "\n",
    "2. Wrapper Methods:\n",
    "   - Wrapper methods evaluate subsets of features by training and evaluating the model performance with different feature combinations.\n",
    "   - They use a specific machine learning algorithm as a black box and assess the quality of features by directly optimizing the performance of the model.\n",
    "   - Wrapper methods involve an iterative search process, exploring different combinations of features and evaluating them using cross-validation or other performance metrics.\n",
    "   - They consider the interaction and dependency between features, as well as the specific learning algorithm, but can be computationally expensive due to the repeated training of the model for different feature subsets.\n",
    "\n",
    "3. Embedded Methods:\n",
    "   - Embedded methods incorporate feature selection within the model training process itself.\n",
    "   - They select features as part of the model training algorithm, where the selection is driven by some internal criteria or regularization techniques.\n",
    "   - Examples include L1 regularization (Lasso) in linear models, which simultaneously performs feature selection and model fitting.\n",
    "   - Embedded methods are computationally efficient since feature selection is combined with the training process, but the selection depends on the specific algorithm and its inherent feature selection mechanism.\n",
    "\n"
   ]
  },
  {
   "cell_type": "code",
   "execution_count": null,
   "metadata": {},
   "outputs": [],
   "source": [
    "Correlation-based feature selection is a filter method used to select features based on their correlation \n",
    "with the target variable. It assesses the relationship between each feature and the target variable\n",
    "to determine their relevance. "
   ]
  },
  {
   "cell_type": "markdown",
   "metadata": {},
   "source": [
    "Multicollinearity occurs when two or more features in a dataset are highly correlated with each other. It can cause issues in feature selection and model interpretation, as it introduces redundancy and instability in the model"
   ]
  },
  {
   "cell_type": "code",
   "execution_count": null,
   "metadata": {},
   "outputs": [],
   "source": [
    "Feature importance refers to the degree of influence or contribution of each feature in a dataset towards predicting the \n",
    "target variable. It helps identify the most relevant features and their impact on the model's performance. Feature \n",
    "importance can be determined through various techniques, such as statistical measures, model-based approaches, \n",
    "or ensemble-based methods. "
   ]
  },
  {
   "cell_type": "markdown",
   "metadata": {},
   "source": [
    "### Data Drift Detection"
   ]
  },
  {
   "cell_type": "code",
   "execution_count": null,
   "metadata": {},
   "outputs": [],
   "source": [
    "Data drift refers to the phenomenon where the statistical properties of the target variable or input \n",
    "features change over time, leading to a degradation in model performance."
   ]
  },
  {
   "cell_type": "markdown",
   "metadata": {},
   "source": [
    " It is important to monitor \n",
    "and address data drift in machine learning because models trained on historical data may become less \n",
    "accurate or unreliable when deployed in production environments where the underlying data distribution has changed. "
   ]
  },
  {
   "cell_type": "code",
   "execution_count": null,
   "metadata": {},
   "outputs": [],
   "source": [
    "concept drift:-change in the relationship between input features and the target variable over time.\n",
    "    It occurs when the underlying concept or pattern that the model aims to capture evolves or shifts. \n",
    "\n",
    "Target Drift: Target drift refers to changes in the distribution or behavior of the target variable. Various \n",
    "    statistical tests can be used to compare the target variable distributions between different time periods. \n",
    "    For classification tasks, tests like the chi-square test or the G-test can be applied, while for regression tasks, \n",
    "    methods like the t-test or analysis of variance (ANOVA) can be used.\n"
   ]
  },
  {
   "cell_type": "markdown",
   "metadata": {},
   "source": [
    "Detecting data drift is crucial for ensuring the reliability and accuracy of machine learning models. Here are some commonly used techniques for detecting data drift:\n",
    "\n",
    "1. Statistical Tests: Statistical tests can be employed to compare the distributions or statistical properties of the data at different time points. For example, the Kolmogorov-Smirnov test, t-test, or chi-square test can be used to assess if there are significant differences in the data distributions. If the test results indicate statistical significance, it suggests the presence of data drift.\n",
    "\n",
    "2. Drift Detection Metrics: Various metrics have been developed specifically for detecting and quantifying data drift. These metrics compare the dissimilarity or distance between two datasets. Examples include the Kullback-Leibler (KL) divergence, Jensen-Shannon divergence, or Wasserstein distance. Higher values of these metrics indicate greater data drift.\n",
    "\n"
   ]
  },
  {
   "cell_type": "markdown",
   "metadata": {},
   "source": [
    "### Data Leakage"
   ]
  },
  {
   "cell_type": "code",
   "execution_count": null,
   "metadata": {},
   "outputs": [],
   "source": [
    "Data leakage refers to the unintentional or improper inclusion of information from the training data that should not be \n",
    "available during the model's deployment or evaluation. It occurs when there is a contamination of the training data with \n",
    "information that is not realistically obtainable at the time of prediction or when evaluating model performance. "
   ]
  },
  {
   "cell_type": "markdown",
   "metadata": {},
   "source": [
    "Data leakage can significantly impact the accuracy and reliability of machine learning models. "
   ]
  },
  {
   "cell_type": "code",
   "execution_count": null,
   "metadata": {},
   "outputs": [],
   "source": [
    "Target Leakage: Target leakage occurs when information that is directly related to the target variable is included in the\n",
    "    feature set. For example, in a churn prediction model, if the feature \"last_month_churn_status\" is included, \n",
    "    it would lead to data leakage as it directly reveals the target variable. The model will appear to perform well\n",
    "    during training but will fail to generalize to new data."
   ]
  },
  {
   "cell_type": "markdown",
   "metadata": {},
   "source": [
    "### cross validation"
   ]
  },
  {
   "cell_type": "code",
   "execution_count": null,
   "metadata": {},
   "outputs": [],
   "source": [
    "Cross-validation is a technique used in machine learning to assess the performance and generalization capability of a model. "
   ]
  },
  {
   "cell_type": "markdown",
   "metadata": {},
   "source": [
    "Cross-validation is important in machine learning for the following reasons:\n",
    "\n",
    "1. Performance Estimation: Cross-validation provides a more reliable estimate of the model's performance compared to a single train-test split. By evaluating the model on multiple folds, it helps to mitigate the impact of data variability and provides a more robust estimate of how well the model is likely to perform on unseen data.\n",
    "\n",
    "2. Model Selection: Cross-validation is useful for comparing and selecting between different models or hyperparameter settings. By evaluating each model on multiple folds, it allows for a fair comparison of performance and helps in selecting the best-performing model.\n"
   ]
  },
  {
   "cell_type": "code",
   "execution_count": null,
   "metadata": {},
   "outputs": [],
   "source": []
  }
 ],
 "metadata": {
  "kernelspec": {
   "display_name": "Python 3",
   "language": "python",
   "name": "python3"
  },
  "language_info": {
   "codemirror_mode": {
    "name": "ipython",
    "version": 3
   },
   "file_extension": ".py",
   "mimetype": "text/x-python",
   "name": "python",
   "nbconvert_exporter": "python",
   "pygments_lexer": "ipython3",
   "version": "3.8.3"
  }
 },
 "nbformat": 4,
 "nbformat_minor": 4
}
