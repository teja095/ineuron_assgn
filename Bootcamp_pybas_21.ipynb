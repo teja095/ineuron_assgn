{
 "cells": [
  {
   "cell_type": "code",
   "execution_count": 19,
   "metadata": {},
   "outputs": [
    {
     "data": {
      "text/plain": [
       "'2023-05-11'"
      ]
     },
     "execution_count": 19,
     "metadata": {},
     "output_type": "execute_result"
    }
   ],
   "source": [
    "import datetime\n",
    "\n",
    "from datetime import date\n",
    "now = date.today()\n",
    "cur_date = now.isoformat()\n",
    "cur_date\n",
    "\n"
   ]
  },
  {
   "cell_type": "code",
   "execution_count": 20,
   "metadata": {},
   "outputs": [],
   "source": [
    "with open('today.txt','w') as file:\n",
    "    file.write(cur_date)\n",
    "     "
   ]
  },
  {
   "cell_type": "code",
   "execution_count": 21,
   "metadata": {},
   "outputs": [
    {
     "data": {
      "text/plain": [
       "'2023-05-11'"
      ]
     },
     "execution_count": 21,
     "metadata": {},
     "output_type": "execute_result"
    }
   ],
   "source": [
    "with open('today.txt','r') as file:\n",
    "    today_string = file.read()\n",
    "today_string\n",
    "     "
   ]
  },
  {
   "cell_type": "code",
   "execution_count": 22,
   "metadata": {},
   "outputs": [
    {
     "data": {
      "text/plain": [
       "datetime.datetime(2023, 5, 11, 0, 0)"
      ]
     },
     "execution_count": 22,
     "metadata": {},
     "output_type": "execute_result"
    }
   ],
   "source": [
    "from datetime import datetime\n",
    "format = '%Y-%m-%d'\n",
    "datetime.strptime(today_string,format)"
   ]
  },
  {
   "cell_type": "code",
   "execution_count": 23,
   "metadata": {},
   "outputs": [
    {
     "data": {
      "text/plain": [
       "['programming_basic_assign_15.ipynb',\n",
       " 'program_aasgn_21.ipynb',\n",
       " 'program_assgn_17.ipynb',\n",
       " 'program_assgn_18.ipynb',\n",
       " 'program_assgn_19.ipynb',\n",
       " 'program_assgn_20.ipynb',\n",
       " 'program_assgn_22.ipynb',\n",
       " 'program_assgn_23.ipynb',\n",
       " 'program_assgn_24.ipynb',\n",
       " 'program_basic_assign1 (1).ipynb',\n",
       " 'Programming_basic_ Assignment_14.ipynb',\n",
       " 'programming_basic_assign_2 (1).ipynb',\n",
       " 'program_assgn_25.ipynb',\n",
       " '.ipynb_checkpoints',\n",
       " 'program_basic_15.ipynb',\n",
       " 'program_basic_16.ipynb',\n",
       " 'program_basic_17.ipynb',\n",
       " 'program_basic_18.ipynb',\n",
       " 'Untitled1.ipynb',\n",
       " 'Untitled2.ipynb',\n",
       " 'Untitled3.ipynb',\n",
       " 'program_basic_19.ipynb',\n",
       " 'program_basic_20.ipynb',\n",
       " 'text.txt',\n",
       " 'book.csv',\n",
       " 'books.db',\n",
       " 'python_basic_21.ipynb',\n",
       " '01 Dec 2021today.txt',\n",
       " 'today',\n",
       " 'program_basic_22.ipynb',\n",
       " 'program_basic_23.ipynb',\n",
       " 'Untitled4.ipynb',\n",
       " 'python_adv_22.ipynb',\n",
       " 'practice_python.ipynb',\n",
       " 'train.csv',\n",
       " 'test.csv',\n",
       " 'cloudy_ml_assgn',\n",
       " 'combined_file.xlsx',\n",
       " 'Untitled5.ipynb',\n",
       " 'stored_procedure.ipynb',\n",
       " 'pr.xlsx',\n",
       " 'Untitled6.ipynb',\n",
       " 're',\n",
       " 'oops 2.ipynb',\n",
       " 'oops 2 (2).ipynb',\n",
       " 'StudentDetails',\n",
       " 'Bootcamp_pybas_16.ipynb',\n",
       " 'BootCamp_PyBas_17.ipynb',\n",
       " 'BootCamp_Pybas_18.ipynb',\n",
       " 'zoo.txt',\n",
       " 'Bootcamp_pybas_19.ipynb',\n",
       " 'Bootcamp_pybas_20.ipynb',\n",
       " 'books1.db',\n",
       " 'books2.db',\n",
       " 'books.csv',\n",
       " 'books3.db',\n",
       " 'Bootcamp_pybas_21.ipynb',\n",
       " '11May2023.txt',\n",
       " 'today.txt',\n",
       " 'progam_adv_assgn_2.ipynb',\n",
       " 'program_adv_4.ipynb',\n",
       " 'prgm_adv_5.ipynb',\n",
       " 'program_adv_6.ipynb',\n",
       " 'program_adv_8.ipynb',\n",
       " 'program_adv_9.ipynb',\n",
       " 'program_basic_3.ipynb',\n",
       " 'program_basic_4.ipynb',\n",
       " 'program_basic_5.ipynb',\n",
       " 'program_basic_6.ipynb',\n",
       " 'Untitled.ipynb',\n",
       " 'program_basic_7.ipynb',\n",
       " 'program_basic_8.ipynb',\n",
       " 'program_basic_9.ipynb',\n",
       " 'program_basic_10.ipynb',\n",
       " 'program_basic_11.ipynb',\n",
       " 'program_basic_12.ipynb',\n",
       " 'program_basic_13.ipynb',\n",
       " 'program_basic_14.ipynb',\n",
       " 'test.txt']"
      ]
     },
     "execution_count": 23,
     "metadata": {},
     "output_type": "execute_result"
    }
   ],
   "source": [
    "import os\n",
    "os.listdir('.')\n",
    "     "
   ]
  },
  {
   "cell_type": "code",
   "execution_count": 27,
   "metadata": {},
   "outputs": [],
   "source": [
    "import multiprocessing\n",
    "\n",
    "def printsec(seconds):\n",
    "    from datetime import datetime\n",
    "    from time import sleep\n",
    "    sleep(seconds)\n",
    "    print('wait',seconds,'seconds time is',datetime.utcnow())\n",
    "if __name__ == 'main':\n",
    "    import random\n",
    "    for n in range(3):\n",
    "        seconds = random.random()\n",
    "        proc = multiprocessing.Process(target=printsec,args=(seconds,))\n",
    "        proc.start()"
   ]
  },
  {
   "cell_type": "code",
   "execution_count": 30,
   "metadata": {},
   "outputs": [
    {
     "data": {
      "text/plain": [
       "datetime.date(1995, 6, 10)"
      ]
     },
     "execution_count": 30,
     "metadata": {},
     "output_type": "execute_result"
    }
   ],
   "source": [
    "my_dob = date(1995,6,10)\n",
    "my_dob\n",
    "     "
   ]
  },
  {
   "cell_type": "code",
   "execution_count": 31,
   "metadata": {},
   "outputs": [
    {
     "data": {
      "text/plain": [
       "5"
      ]
     },
     "execution_count": 31,
     "metadata": {},
     "output_type": "execute_result"
    }
   ],
   "source": [
    "\n",
    "my_dob.weekday()"
   ]
  },
  {
   "cell_type": "code",
   "execution_count": 32,
   "metadata": {},
   "outputs": [
    {
     "data": {
      "text/plain": [
       "datetime.date(2022, 10, 26)"
      ]
     },
     "execution_count": 32,
     "metadata": {},
     "output_type": "execute_result"
    }
   ],
   "source": [
    "from datetime import timedelta\n",
    "day10000 = my_dob + timedelta(days=10000)\n",
    "day10000\n",
    "     "
   ]
  },
  {
   "cell_type": "code",
   "execution_count": null,
   "metadata": {},
   "outputs": [],
   "source": []
  }
 ],
 "metadata": {
  "kernelspec": {
   "display_name": "Python 3",
   "language": "python",
   "name": "python3"
  },
  "language_info": {
   "codemirror_mode": {
    "name": "ipython",
    "version": 3
   },
   "file_extension": ".py",
   "mimetype": "text/x-python",
   "name": "python",
   "nbconvert_exporter": "python",
   "pygments_lexer": "ipython3",
   "version": "3.8.3"
  }
 },
 "nbformat": 4,
 "nbformat_minor": 4
}
