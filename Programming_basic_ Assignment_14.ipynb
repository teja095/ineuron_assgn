{
 "cells": [
  {
   "cell_type": "code",
   "execution_count": 4,
   "metadata": {},
   "outputs": [
    {
     "name": "stdout",
     "output_type": "stream",
     "text": [
      "0\n",
      "7\n",
      "14\n",
      "21\n",
      "28\n",
      "35\n",
      "42\n",
      "49\n",
      "56\n",
      "63\n",
      "70\n",
      "77\n",
      "84\n",
      "91\n",
      "98\n"
     ]
    }
   ],
   "source": [
    "class iterator():\n",
    "    def __init__(self, n):\n",
    "        super(iterator, self).__init__()\n",
    "        self.n = n\n",
    "    def divBySeven(self):\n",
    "        for i in range(0, self.n):\n",
    "            if i % 7 == 0:\n",
    "                yield i\n",
    "\n",
    "for num in iterator(100).divBySeven():\n",
    "    print (num)"
   ]
  },
  {
   "cell_type": "code",
   "execution_count": 8,
   "metadata": {},
   "outputs": [
    {
     "name": "stdout",
     "output_type": "stream",
     "text": [
      "Enter the string:New to Python or choosing between Python 2 and Python 3? Read Python 2 or Python 3.\n",
      "{'New': 1, 'to': 1, 'Python': 5, 'or': 2, 'choosing': 1, 'between': 1, '2': 2, 'and': 1, '3?': 1, 'Read': 1, '3.': 1}\n",
      "[('2', 2), ('3.', 1), ('3?', 1), ('New', 1), ('Python', 5), ('Read', 1), ('and', 1), ('between', 1), ('choosing', 1), ('or', 2), ('to', 1)]\n"
     ]
    }
   ],
   "source": [
    "d=dict()\n",
    "s=input(\"Enter the string:\")\n",
    "for i in s.split():\n",
    "   d[i]=d.get(i,0)+1\n",
    "print(d)\n",
    "print(sorted(d.items()))"
   ]
  },
  {
   "cell_type": "code",
   "execution_count": 11,
   "metadata": {},
   "outputs": [
    {
     "name": "stdout",
     "output_type": "stream",
     "text": [
      "male\n",
      "female\n"
     ]
    }
   ],
   "source": [
    "#14.Define a class Person and its two child classes: Male and Female. All classes have a\n",
    "#method getGender. which can print Male, for Male class and,Female for Female.\n",
    "class.\n",
    "class person(object):\n",
    "    def getgender(self):\n",
    "        return \"unknown\"\n",
    "class male(person):\n",
    "     def getgender(self):\n",
    "        return \"male\"\n",
    "class female(person):\n",
    "     def getgender(self):\n",
    "        return \"female\"\n",
    "amale = male()\n",
    "afemale = female()\n",
    "print (amale.getgender())\n",
    "print (afemale.getgender())"
   ]
  },
  {
   "cell_type": "code",
   "execution_count": 12,
   "metadata": {},
   "outputs": [
    {
     "name": "stdout",
     "output_type": "stream",
     "text": [
      "i play hockey\n",
      "i play football\n",
      "i love hockey\n",
      "i love football\n",
      "you play hockey\n",
      "you play football\n",
      "you love hockey\n",
      "you love football\n"
     ]
    }
   ],
   "source": [
    "#14.Please write a program to generate all sentences where subject is in [\"i\",\"you\"] and\n",
    "#verb is in [\"play\",\"love\"] and the object is in [Hockey,Football].\n",
    "subject = [\"i\",\"you\"]\n",
    "verb = [\"play\",\"love\"]\n",
    "object = [\"hockey\", \"football\"]\n",
    "\n",
    "continuation_list = [(sub+\" \" + vb + \" \"+ obj)for sub in subject for vb in verb for obj in object]\n",
    "for i in continuation_list:\n",
    "    print(i)\n"
   ]
  },
  {
   "cell_type": "code",
   "execution_count": 16,
   "metadata": {},
   "outputs": [
    {
     "name": "stdout",
     "output_type": "stream",
     "text": [
      "100\n",
      "0,35,70\n"
     ]
    }
   ],
   "source": [
    "#Please write a program using generator to print the numbers which can be divisible by 5 and\n",
    "#7 between 0 and n in comma separated form while n is input by console.\n",
    "def NumGenerator(n):\n",
    "    for i in range(n):\n",
    "        if i%5==0 and i%7==0:\n",
    "            yield i\n",
    "\n",
    "n=int(input())\n",
    "values = []\n",
    "for i in NumGenerator(n):\n",
    "    values.append(str(i))\n",
    "\n",
    "print(\",\".join(values))\n"
   ]
  },
  {
   "cell_type": "code",
   "execution_count": 21,
   "metadata": {},
   "outputs": [
    {
     "name": "stdout",
     "output_type": "stream",
     "text": [
      "10\n",
      "0,2,4,6,8,10\n"
     ]
    }
   ],
   "source": [
    "# Please write a program using generator to print the even numbers between 0 and n in comma\n",
    "#separated form while n is input by console.\n",
    "\n",
    "def NumGenerator(n):\n",
    "    for i in range(0,n+1):\n",
    "        if i%2 == 0 :\n",
    "            yield i\n",
    "            \n",
    "n = int(input())\n",
    "values = []\n",
    "for i in NumGenerator(n):\n",
    "    values.append(str(i))\n",
    "print(\",\".join(values))"
   ]
  },
  {
   "cell_type": "code",
   "execution_count": 28,
   "metadata": {},
   "outputs": [
    {
     "name": "stdout",
     "output_type": "stream",
     "text": [
      "7\n",
      "0,1,1,2,3,5,8,13\n"
     ]
    }
   ],
   "source": [
    "# Please write a program using list comprehension to print the Fibonacci Sequence in comma\n",
    "#separated form with a given n input by console.\n",
    "def f(n):\n",
    "    if n == 0:\n",
    "        return 0\n",
    "    elif n == 1:\n",
    "        return 1\n",
    "    else:\n",
    "        return f(n-1) + f(n-2)\n",
    "n = int(input())\n",
    "values = [str(f(x))for x in range(0,n+1)]\n",
    "print(\",\".join(values))"
   ]
  },
  {
   "cell_type": "code",
   "execution_count": 36,
   "metadata": {},
   "outputs": [
    {
     "data": {
      "text/plain": [
       "'username'"
      ]
     },
     "execution_count": 36,
     "metadata": {},
     "output_type": "execute_result"
    }
   ],
   "source": [
    "#Assuming that we have some email addresses in the &quot;username@companyname.com&quot; format,\n",
    "#please write program to print the user name of a given email address. Both user names and\n",
    "#company names are composed of letters only.\n",
    "def get_name(s):\n",
    "    try:\n",
    "        return s.split(\"@\")[0]\n",
    "    except:\n",
    "           print(\"the right answer\")\n",
    "get_name(\"username@companyname.com\")"
   ]
  },
  {
   "cell_type": "code",
   "execution_count": 2,
   "metadata": {},
   "outputs": [
    {
     "data": {
      "text/plain": [
       "'google'"
      ]
     },
     "execution_count": 2,
     "metadata": {},
     "output_type": "execute_result"
    }
   ],
   "source": [
    "# addtn ques\n",
    "def getname(s):\n",
    "    try:\n",
    "        return s.replace(\"@\",\".\").split(\".\")[1]\n",
    "    except:\n",
    "        print(\"Something Wrong\")\n",
    "\n",
    "getname(\"john@google.com\")"
   ]
  },
  {
   "cell_type": "code",
   "execution_count": 9,
   "metadata": {},
   "outputs": [
    {
     "name": "stdout",
     "output_type": "stream",
     "text": [
      "degree =  1145.5\n"
     ]
    }
   ],
   "source": [
    "# Create a function that takes an angle in radians and returns the corresponding angle in degrees rounded to one decimal place.\n",
    "def angle(radian):\n",
    "    pi = 22/7\n",
    "    degree = radian*(180/pi)\n",
    "    return degree\n",
    "radian = 20\n",
    "print(\"degree = \",round(angle(radian),1))\n",
    " "
   ]
  },
  {
   "cell_type": "code",
   "execution_count": 15,
   "metadata": {},
   "outputs": [
    {
     "data": {
      "text/plain": [
       "10.39"
      ]
     },
     "execution_count": 15,
     "metadata": {},
     "output_type": "execute_result"
    }
   ],
   "source": [
    "#16 Given the side length x find the area of a hexagon.\n",
    "import math\n",
    "def hexa_area(s):\n",
    "    return((3*math.sqrt(3)*(s*s))/2)\n",
    "round(hexa_area(2),2)"
   ]
  },
  {
   "cell_type": "code",
   "execution_count": 16,
   "metadata": {},
   "outputs": [],
   "source": [
    "# 17 Question1. Create a function that takes three arguments a, b, c and returns the sum of the\n",
    "#numbers that are evenly divided by c from the range a, b inclusive.\n",
    "def sum1(a,b,c):\n",
    "    sum= 0\n",
    "    try:\n",
    "        for i in range(a,b+1):\n",
    "           if (i%c == 0):\n",
    "             sum= sum+i\n",
    "        return sum\n",
    "    except exception as e:\n",
    "        print(\"enter the right format\")\n",
    "\n",
    "\n",
    "            \n",
    "    \n",
    "    "
   ]
  },
  {
   "cell_type": "code",
   "execution_count": 17,
   "metadata": {},
   "outputs": [
    {
     "data": {
      "text/plain": [
       "30"
      ]
     },
     "execution_count": 17,
     "metadata": {},
     "output_type": "execute_result"
    }
   ],
   "source": [
    "sum1(1,10,2)"
   ]
  },
  {
   "cell_type": "code",
   "execution_count": 40,
   "metadata": {},
   "outputs": [],
   "source": [
    "#Create a function that returns True if a given inequality expression is correct and\n",
    "#False otherwise.\n",
    "def correct_signs(txt):\n",
    "    lst = [int(i) if i.isdigit() else i for i in txt.split()]\n",
    "  \n",
    "    for i in range(0,len(lst)-2,2):\n",
    "        if lst[i+1] == '>':\n",
    "            if lst[i] <= lst[i+2]:\n",
    "                return False\n",
    "        elif lst[i+1] == '<':\n",
    "            if lst[i] >= lst[i+2]:\n",
    "                return False\n",
    "    return True "
   ]
  },
  {
   "cell_type": "code",
   "execution_count": 41,
   "metadata": {},
   "outputs": [
    {
     "data": {
      "text/plain": [
       "True"
      ]
     },
     "execution_count": 41,
     "metadata": {},
     "output_type": "execute_result"
    }
   ],
   "source": [
    "correct_signs(\"3< 7 <11\")"
   ]
  },
  {
   "cell_type": "code",
   "execution_count": 33,
   "metadata": {},
   "outputs": [],
   "source": [
    "def replace_strings(str):\n",
    "    new_repl = \"#\"\n",
    "    new_vowels = \"\"\n",
    "    try:\n",
    "        for i in str:\n",
    "            if i in {\"a\",\"e\",\"i\",\"o\",\"u\",\"A\",\"E\",\"I\",\"O\",\"U\"}:\n",
    "                new_vowels+= new_repl\n",
    "            else:\n",
    "                new_vowels+= i\n",
    "    except unboundlocalerror as un:\n",
    "          print(\"local_variable not found\")\n",
    "        \n",
    "    return new_vowels\n",
    "            \n",
    "            \n",
    "    "
   ]
  },
  {
   "cell_type": "code",
   "execution_count": 34,
   "metadata": {},
   "outputs": [
    {
     "data": {
      "text/plain": [
       "'th# ##d#rk'"
      ]
     },
     "execution_count": 34,
     "metadata": {},
     "output_type": "execute_result"
    }
   ],
   "source": [
    "replace_strings(\"the aadark\")"
   ]
  },
  {
   "cell_type": "code",
   "execution_count": 4,
   "metadata": {},
   "outputs": [],
   "source": [
    "def factorial(n):\n",
    "    factor = 1\n",
    "    try:\n",
    "        for i in range(1,n+1):\n",
    "            factor = factor*i\n",
    "    except exception as e:\n",
    "        print(\"finding the value\")\n",
    "    return factor\n",
    "    "
   ]
  },
  {
   "cell_type": "code",
   "execution_count": 5,
   "metadata": {},
   "outputs": [
    {
     "data": {
      "text/plain": [
       "120"
      ]
     },
     "execution_count": 5,
     "metadata": {},
     "output_type": "execute_result"
    }
   ],
   "source": [
    "factorial(5)"
   ]
  },
  {
   "cell_type": "code",
   "execution_count": null,
   "metadata": {},
   "outputs": [],
   "source": [
    "def hamming_distance(str1,str2):\n",
    "    i=0\n",
    "    count = 0\n",
    "    while (i < len(str1)):\n",
    "        if(str1[i] != str2[i]):\n",
    "            count+= 1\n",
    "    i+= 1\n",
    "    return count\n",
    "str1 = \"abcde\"\n",
    "str2 = \"aefde\"\n",
    "\n",
    "print(hamming_distance(str1,str2))\n",
    "    \n",
    "        \n",
    "    "
   ]
  },
  {
   "cell_type": "code",
   "execution_count": 3,
   "metadata": {},
   "outputs": [
    {
     "data": {
      "text/plain": [
       "1"
      ]
     },
     "execution_count": 3,
     "metadata": {},
     "output_type": "execute_result"
    }
   ],
   "source": [
    "hamming_distance(\"strong\",\"strung\")"
   ]
  },
  {
   "cell_type": "code",
   "execution_count": null,
   "metadata": {},
   "outputs": [],
   "source": []
  }
 ],
 "metadata": {
  "kernelspec": {
   "display_name": "Python 3",
   "language": "python",
   "name": "python3"
  },
  "language_info": {
   "codemirror_mode": {
    "name": "ipython",
    "version": 3
   },
   "file_extension": ".py",
   "mimetype": "text/x-python",
   "name": "python",
   "nbconvert_exporter": "python",
   "pygments_lexer": "ipython3",
   "version": "3.8.3"
  }
 },
 "nbformat": 4,
 "nbformat_minor": 4
}
