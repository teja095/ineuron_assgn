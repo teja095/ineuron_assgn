{
 "cells": [
  {
   "cell_type": "code",
   "execution_count": 33,
   "metadata": {},
   "outputs": [
    {
     "name": "stdout",
     "output_type": "stream",
     "text": [
      "Test case 1: 5\n",
      "Test case 2: 3\n"
     ]
    }
   ],
   "source": [
    "from collections import Counter\n",
    "\n",
    "def get_length_of_highest_frequecy_count(input_string):\n",
    "    # split the input string into words\n",
    "    words = input_string.split()\n",
    "    #count the frequency of each word\n",
    "    word_count = Counter(words)\n",
    "    \n",
    "    ## find the highest frequency \n",
    "    max_frequency = max(word_count.values())\n",
    "   \n",
    "    \n",
    "    ##finding the length of frequency \n",
    "    hig_fre_word = [word for word, count in word_count.items() if count == max_frequency]\n",
    "    len_gre_freq_word = len(hig_fre_word[0])\n",
    "    \n",
    "    return len_gre_freq_word\n",
    "# Test case 1\n",
    "input_string1 = \"Hello world hello\"\n",
    "result1 = get_length_of_highest_frequecy_count(input_string1)\n",
    "print(f\"Test case 1: {result1}\")\n",
    "\n",
    "# Test case 2\n",
    "input_string2 = \"I am the the best\"\n",
    "result2 = get_length_of_highest_frequecy_count(input_string2)\n",
    "print(f\"Test case 2: {result2}\")"
   ]
  }
 ],
 "metadata": {
  "kernelspec": {
   "display_name": "Python 3",
   "language": "python",
   "name": "python3"
  },
  "language_info": {
   "codemirror_mode": {
    "name": "ipython",
    "version": 3
   },
   "file_extension": ".py",
   "mimetype": "text/x-python",
   "name": "python",
   "nbconvert_exporter": "python",
   "pygments_lexer": "ipython3",
   "version": "3.8.3"
  }
 },
 "nbformat": 4,
 "nbformat_minor": 4
}
