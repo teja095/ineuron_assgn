{
 "cells": [
  {
   "cell_type": "markdown",
   "metadata": {},
   "source": [
    "Ans 1"
   ]
  },
  {
   "cell_type": "code",
   "execution_count": 2,
   "metadata": {},
   "outputs": [
    {
     "name": "stdout",
     "output_type": "stream",
     "text": [
      "Modified Linked List:\n",
      "1 2 3 4 5 \n",
      "Modified Linked List:\n",
      "1 2 4 5 \n"
     ]
    }
   ],
   "source": [
    "class Node:\n",
    "    def __init__(self, data):\n",
    "        self.data = data\n",
    "        self.next = None\n",
    "\n",
    "\n",
    "def delete_middle_node(head):\n",
    "    if head is None or head.next is None:\n",
    "        return None\n",
    "\n",
    "    slow = head\n",
    "    fast = head\n",
    "    prev = None\n",
    "\n",
    "    while fast is not None and fast.next is not None:\n",
    "        fast = fast.next.next\n",
    "        prev = slow\n",
    "        slow = slow.next\n",
    "\n",
    "    prev.next = slow.next\n",
    "\n",
    "    return head\n",
    "\n",
    "\n",
    "def print_linked_list(head):\n",
    "    if head is None:\n",
    "        print(\"LinkedList is empty\")\n",
    "        return\n",
    "\n",
    "    current = head\n",
    "    while current is not None:\n",
    "        print(current.data, end=\" \")\n",
    "        current = current.next\n",
    "    print()\n",
    "\n",
    "\n",
    "# Example usage\n",
    "# Create the linked list 1->2->3->4->5\n",
    "head = Node(1)\n",
    "head.next = Node(2)\n",
    "head.next.next = Node(3)\n",
    "head.next.next.next = Node(4)\n",
    "head.next.next.next.next = Node(5)\n",
    "\n",
    "\n",
    "\n",
    "\n",
    "print(\"Modified Linked List:\")\n",
    "print_linked_list(head)\n",
    "\n",
    "head = delete_middle_node(head)\n",
    "\n",
    "print(\"Modified Linked List:\")\n",
    "print_linked_list(head)"
   ]
  },
  {
   "cell_type": "markdown",
   "metadata": {},
   "source": [
    "Ans 2"
   ]
  },
  {
   "cell_type": "code",
   "execution_count": 3,
   "metadata": {},
   "outputs": [],
   "source": [
    "class Node:\n",
    "    def __init__(self, data):\n",
    "        self.data = data\n",
    "        self.next = None\n",
    "\n",
    "def detectLoop(head):\n",
    "    slowPtr = head\n",
    "    fastPtr = head\n",
    "\n",
    "    while fastPtr and fastPtr.next:\n",
    "        slowPtr = slowPtr.next\n",
    "        fastPtr = fastPtr.next.next\n",
    "\n",
    "        if slowPtr == fastPtr:\n",
    "            return True\n",
    "\n",
    "    return False\n"
   ]
  },
  {
   "cell_type": "markdown",
   "metadata": {},
   "source": [
    "Ans 3"
   ]
  },
  {
   "cell_type": "code",
   "execution_count": 4,
   "metadata": {},
   "outputs": [
    {
     "name": "stdout",
     "output_type": "stream",
     "text": [
      "Output: 8\n"
     ]
    }
   ],
   "source": [
    "class Node:\n",
    "    def __init__(self, data):\n",
    "        self.data = data\n",
    "        self.next = None\n",
    "\n",
    "def getNthFromLast(head, N):\n",
    "    main_ptr = head\n",
    "    ref_ptr = head\n",
    "\n",
    "    \n",
    "    for _ in range(N):\n",
    "        if ref_ptr is None:\n",
    "            return None  \n",
    "        ref_ptr = ref_ptr.next\n",
    "\n",
    "    \n",
    "    while ref_ptr:\n",
    "        main_ptr = main_ptr.next\n",
    "        ref_ptr = ref_ptr.next\n",
    "\n",
    "    \n",
    "    return main_ptr.data\n",
    "\n",
    "\n",
    "head = Node(1)\n",
    "head.next = Node(2)\n",
    "head.next.next = Node(3)\n",
    "head.next.next.next = Node(4)\n",
    "head.next.next.next.next = Node(5)\n",
    "head.next.next.next.next.next = Node(6)\n",
    "head.next.next.next.next.next.next = Node(7)\n",
    "head.next.next.next.next.next.next.next = Node(8)\n",
    "head.next.next.next.next.next.next.next.next = Node(9)\n",
    "\n",
    "N = 2\n",
    "result = getNthFromLast(head, N)\n",
    "print(\"Output:\", result)\n"
   ]
  },
  {
   "cell_type": "markdown",
   "metadata": {},
   "source": [
    "known only till the second def function remaining got it from google"
   ]
  },
  {
   "cell_type": "markdown",
   "metadata": {},
   "source": [
    "Ans 4"
   ]
  },
  {
   "cell_type": "code",
   "execution_count": 5,
   "metadata": {},
   "outputs": [
    {
     "name": "stdout",
     "output_type": "stream",
     "text": [
      "Yes\n"
     ]
    }
   ],
   "source": [
    "class Node:\n",
    "    def __init__(self, data=None):\n",
    "        self.data = data\n",
    "        self.next = None\n",
    "\n",
    "def is_palindrome(head):\n",
    "    # Step 1: Store characters in a container\n",
    "    container = []\n",
    "    current = head\n",
    "    while current:\n",
    "        container.append(current.data)\n",
    "        current = current.next\n",
    "\n",
    "    # Step 2: Compare characters with container\n",
    "    current = head\n",
    "    while current:\n",
    "        if current.data != container.pop():\n",
    "            return False\n",
    "        current = current.next\n",
    "\n",
    "    return True\n",
    "\n",
    "# Example usage:\n",
    "# Create the linked list: R->A->D->A->R->NULL\n",
    "head = Node('R')\n",
    "head.next = Node('A')\n",
    "head.next.next = Node('D')\n",
    "head.next.next.next = Node('A')\n",
    "head.next.next.next.next = Node('R')\n",
    "\n",
    "# Check if the linked list is a palindrome\n",
    "if is_palindrome(head):\n",
    "    print(\"Yes\")\n",
    "else:\n",
    "    print(\"No\")\n"
   ]
  },
  {
   "cell_type": "code",
   "execution_count": null,
   "metadata": {},
   "outputs": [],
   "source": []
  }
 ],
 "metadata": {
  "kernelspec": {
   "display_name": "Python 3",
   "language": "python",
   "name": "python3"
  },
  "language_info": {
   "codemirror_mode": {
    "name": "ipython",
    "version": 3
   },
   "file_extension": ".py",
   "mimetype": "text/x-python",
   "name": "python",
   "nbconvert_exporter": "python",
   "pygments_lexer": "ipython3",
   "version": "3.8.3"
  }
 },
 "nbformat": 4,
 "nbformat_minor": 4
}
